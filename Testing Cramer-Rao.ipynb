{
 "cells": [
  {
   "cell_type": "code",
   "execution_count": 1,
   "metadata": {},
   "outputs": [
    {
     "name": "stdout",
     "output_type": "stream",
     "text": [
      "Populating the interactive namespace from numpy and matplotlib\n"
     ]
    }
   ],
   "source": [
    "%pylab inline"
   ]
  },
  {
   "cell_type": "code",
   "execution_count": 2,
   "metadata": {},
   "outputs": [],
   "source": [
    "from scipy.optimize import minimize\n",
    "from numdifftools import Hessian\n",
    "from math import ceil\n",
    "import warnings\n",
    "from tqdm import tqdm_notebook\n",
    "warnings.filterwarnings(\"ignore\")\n",
    "numpy.set_printoptions(precision=4)"
   ]
  },
  {
   "cell_type": "code",
   "execution_count": 3,
   "metadata": {},
   "outputs": [
    {
     "name": "stdout",
     "output_type": "stream",
     "text": [
      "/home/gleb/Документы/Science/Статьи/Machine vision/Measurement-automation\n"
     ]
    }
   ],
   "source": [
    "cd Measurement-automation/"
   ]
  },
  {
   "cell_type": "code",
   "execution_count": 4,
   "metadata": {},
   "outputs": [],
   "source": [
    "from lib2.fulaut.qubit_spectra import transmon_spectrum\n",
    "from lib2.fulaut.AnticrossingOracle import AnticrossingOracle"
   ]
  },
  {
   "cell_type": "code",
   "execution_count": 6,
   "metadata": {},
   "outputs": [
    {
     "name": "stdout",
     "output_type": "stream",
     "text": [
      "/home/gleb/Документы/Science/Статьи/Machine vision\n"
     ]
    }
   ],
   "source": [
    "%cd ..\n",
    "from SymbolicHessian import *"
   ]
  },
  {
   "cell_type": "code",
   "execution_count": 7,
   "metadata": {},
   "outputs": [],
   "source": [
    "def gauss_model(X, a, missing_values = None):\n",
    "    return ones_like(X)*a\n",
    "\n",
    "def linear_model(X, a, b, missing_values = None):\n",
    "    return a*X+b\n",
    "\n",
    "def square_model(X, a, b, c, missing_values = None):\n",
    "    return a*X**2+b*X+c\n",
    "\n",
    "def sin_model(X, a, b, c, missing_values = None):\n",
    "    return a*sin(X*b+c)\n",
    "\n",
    "def exp_model(X, a, b, c, missing_values = None):\n",
    "    return a*exp(-b*X)+c\n",
    "\n",
    "def transmon_model(X, f_r, g, period, sws, max_q_freq, d, missing_values = nan):\n",
    "    \n",
    "    f_qs = transmon_spectrum(X, period, sws, max_q_freq, d)\n",
    "    levels = AnticrossingOracle._eigenlevels(f_qs, f_r, g)\n",
    "    \n",
    "    upper_limit = f_r + freq_window\n",
    "    lower_limit = f_r - freq_window\n",
    "\n",
    "    res_freqs_model = ones_like(X)*missing_values\n",
    "    idcs1 = where(logical_and(lower_limit < levels[1, :],\n",
    "                              levels[1, :] < upper_limit))\n",
    "    idcs2 = where(logical_and(lower_limit < levels[2, :],\n",
    "                              levels[2, :] < upper_limit))\n",
    "\n",
    "    res_freqs_model[idcs1] = levels[1, :][idcs1]\n",
    "    res_freqs_model[idcs2] = levels[2, :][idcs2]\n",
    "    \n",
    "    return res_freqs_model"
   ]
  },
  {
   "cell_type": "code",
   "execution_count": 8,
   "metadata": {},
   "outputs": [],
   "source": [
    "def add_noise(data, sigma, seed = True):\n",
    "    if seed:\n",
    "        return data + random.RandomState(1).normal(scale = sigma, size=data.shape)\n",
    "    else:\n",
    "        return data + random.normal(scale = sigma, size=data.shape)"
   ]
  },
  {
   "cell_type": "code",
   "execution_count": 9,
   "metadata": {},
   "outputs": [],
   "source": [
    "def loss_function(params, model_name, X, Y, verbose = False):\n",
    "    M = models[model_name](X, *params, missing_values = params[0])\n",
    "    residuals = (Y - M)\n",
    "#     nonnan_len = len(residuals[~isnan(residuals)])\n",
    "#     print(nonnan_len)\n",
    "    return sum((residuals)**2)/2\n",
    "    \n",
    "def find_param_scales(model_name, X, Y, opt_params):\n",
    "    opt_loss = loss_function(opt_params, model_name, X, Y)\n",
    "    threshold_loss_change = sigma**2\n",
    "    scales = []\n",
    "    for i in range(len(opt_params)):\n",
    "        for absolute_parameter_change in logspace(-16, 16, 66*10):\n",
    "            test_params = opt_params.copy()\n",
    "            test_params[i] = test_params[i] + absolute_parameter_change\n",
    "            test_loss = loss_function(test_params, model_name, X, Y)\n",
    "            loss_change = test_loss - opt_loss\n",
    "            \n",
    "#             print(i, absolute_parameter_change, loss_change)\n",
    "            \n",
    "            if loss_change >= threshold_loss_change:\n",
    "                scales.append(absolute_parameter_change)\n",
    "                break\n",
    "    return array(scales)\n",
    "\n",
    "def plot_loss(model_name, X, Y, opt_params, scale = 1):\n",
    "    hess = hessian(model_name, X, Y, opt_params)\n",
    "    scales = scale*sigma*1/sqrt(diag(hess))\n",
    "#     scales = scale * find_param_scales(model_name, X, Y, opt_params)\n",
    "    \n",
    "    param_arrays = []\n",
    "    for idx, param in enumerate(opt_params):\n",
    "        param_arrays.append(linspace(param - scales[idx], param+scales[idx], 100))\n",
    "        \n",
    "    def calculate_loss(arr1, arr2, idx1, idx2):\n",
    "        loss = []\n",
    "        for p1 in arr1:\n",
    "            row = []\n",
    "            for p2 in arr2:\n",
    "                test_params = opt_params.copy()\n",
    "                test_params[idx1] = p1\n",
    "                test_params[idx2] = p2\n",
    "                row.append(loss_function(test_params, model_name, X, Y))\n",
    "            loss.append(row)\n",
    "        return array(loss)\n",
    "    \n",
    "    plot_number = int(len(opt_params)*(len(opt_params)-1)/2)\n",
    "    \n",
    "    ncols = 5 if plot_number > 5 else plot_number\n",
    "    nrows = ceil(plot_number/5)\n",
    "    \n",
    "    fig, axes = plt.subplots(nrows, ncols, squeeze=False, figsize=(5*ncols, 5*nrows))\n",
    "    axes = axes.ravel()\n",
    "    axes_idx = 0\n",
    "    for idx1, param_array1 in tqdm_notebook(enumerate(param_arrays[:-1])):\n",
    "        for idx2, param_array2 in enumerate(param_arrays[idx1+1:]):\n",
    "            p1_num = idx1\n",
    "            p2_num = idx1+1+idx2\n",
    "            loss_data = (calculate_loss(param_array1, param_array2, p1_num, p2_num))\n",
    "            axes[axes_idx].contour(param_array1, param_array2, loss_data.T, 50, cmap=\"Spectral_r\")\n",
    "            axes[axes_idx].set_title(param_names[model_name][p2_num]+\" vs \"+param_names[model_name][p1_num])\n",
    "            axes[axes_idx].set_ylabel(param_names[model_name][p2_num])\n",
    "            axes[axes_idx].set_xlabel(param_names[model_name][p1_num])\n",
    "            axes[axes_idx].xaxis.set_tick_params(rotation=20)\n",
    "            axes_idx += 1\n",
    "    plt.tight_layout()\n",
    "\n",
    "\n",
    "def hessian(model_name, X, Y, opt_params, scales = None):\n",
    "    if scales is None:\n",
    "        scales = array(find_param_scales(model_name, X, Y, opt_params))\n",
    "    hess = Hessian(loss_function, step = scales)\n",
    "    return hess(opt_params, model_name, X, Y)"
   ]
  },
  {
   "cell_type": "code",
   "execution_count": 10,
   "metadata": {},
   "outputs": [],
   "source": [
    "def fit(model_name, X, data):\n",
    "    args = (model_name, X, data)\n",
    "    x0 = array(params[model_name]).copy()\n",
    "    for idx in range(len(x0)):\n",
    "        x0[idx] *= random.normal(loc=1, scale=0.01)\n",
    "            \n",
    "    return minimize(loss_function, x0, args = args, method = \"Nelder-Mead\")\n",
    "\n",
    "def estimate_sigma(model_name, X, Y, opt_params):\n",
    "    return sqrt(2*loss_function(opt_params, model_name, X, Y)/(len(X)-len(params[model_name])))"
   ]
  },
  {
   "cell_type": "code",
   "execution_count": 11,
   "metadata": {},
   "outputs": [],
   "source": [
    "a, b, c = 3, 10, 1\n",
    "models = {\"gau\":gauss_model, \"lin\":linear_model, \"sq\":square_model, \"sin\":sin_model, \"exp\":exp_model, \"tr\":transmon_model}\n",
    "params = {\"gau\":(0,), \"lin\":(a,b), \"sq\":(a*10,b,c), \"sin\":(a,b,c), \"exp\":(a,b,c), \"tr\":(6, 0.05, 0.7, 0.4, 7, 0.5)}\n",
    "param_names = {\"gau\":(r\"$\\sigma$\", ), \"lin\":(\"a\", \"b\"),\"sq\":(\"a\", \"b\", \"c\"), \n",
    "               \"sin\":(\"A\", r\"$\\omega$\", r\"$\\phi$\"), \"exp\":(\"A\", r\"$\\gamma$\", \"C\"),\n",
    "               \"tr\":(\"$f_r$\", \"$g$\", \"$\\Pi$\", \"$I_{ss}$\", \"$f_q^{max}$\", \"$d$\")}"
   ]
  },
  {
   "cell_type": "code",
   "execution_count": 12,
   "metadata": {},
   "outputs": [
    {
     "ename": "NameError",
     "evalue": "name 'result' is not defined",
     "output_type": "error",
     "traceback": [
      "\u001b[0;31m---------------------------------------------------------------------------\u001b[0m",
      "\u001b[0;31mNameError\u001b[0m                                 Traceback (most recent call last)",
      "\u001b[0;32m<ipython-input-12-28b709d03d10>\u001b[0m in \u001b[0;36m<module>\u001b[0;34m\u001b[0m\n\u001b[0;32m----> 1\u001b[0;31m \u001b[0msqrt\u001b[0m\u001b[0;34m(\u001b[0m\u001b[0mresult\u001b[0m\u001b[0;34m.\u001b[0m\u001b[0mfun\u001b[0m \u001b[0;34m*\u001b[0m \u001b[0;36m2\u001b[0m\u001b[0;34m/\u001b[0m\u001b[0mlen\u001b[0m\u001b[0;34m(\u001b[0m\u001b[0mX\u001b[0m\u001b[0;34m)\u001b[0m\u001b[0;34m)\u001b[0m\u001b[0;34m,\u001b[0m \u001b[0mestimate_sigma\u001b[0m\u001b[0;34m(\u001b[0m\u001b[0mmodel_name\u001b[0m\u001b[0;34m,\u001b[0m \u001b[0mX\u001b[0m\u001b[0;34m,\u001b[0m \u001b[0mnoisy_data\u001b[0m\u001b[0;34m,\u001b[0m \u001b[0mresult\u001b[0m\u001b[0;34m.\u001b[0m\u001b[0mx\u001b[0m\u001b[0;34m)\u001b[0m\u001b[0;34m\u001b[0m\u001b[0m\n\u001b[0m",
      "\u001b[0;31mNameError\u001b[0m: name 'result' is not defined"
     ]
    }
   ],
   "source": [
    "sqrt(result.fun * 2/len(X)), estimate_sigma(model_name, X, noisy_data, result.x)"
   ]
  },
  {
   "cell_type": "code",
   "execution_count": null,
   "metadata": {},
   "outputs": [],
   "source": [
    "result.x, result.x - array(params[model_name])"
   ]
  },
  {
   "cell_type": "code",
   "execution_count": null,
   "metadata": {},
   "outputs": [],
   "source": [
    "losses = []\n",
    "test_params = result.x.copy()\n",
    "# test_params[1] = 0\n",
    "idx = 0\n",
    "factor = 10\n",
    "p_vals = linspace(result.x[idx]-scales[idx]*factor, result.x[idx]+scales[idx]*factor, 1000)\n",
    "for p1 in p_vals:\n",
    "    test_params[idx] = p1\n",
    "    loss = loss_function(test_params, model_name, X, noisy_data)\n",
    "    losses.append(loss)"
   ]
  },
  {
   "cell_type": "code",
   "execution_count": null,
   "metadata": {},
   "outputs": [],
   "source": [
    "plot(p_vals, losses)\n",
    "xticks(rotation=20);"
   ]
  },
  {
   "cell_type": "code",
   "execution_count": null,
   "metadata": {},
   "outputs": [],
   "source": [
    "test_params = result.x.copy()\n",
    "test_params[0]*=1.00000\n",
    "fit_data = models[model_name](X, *test_params, test_params[0])\n",
    "\n",
    "test_params[0], sum((noisy_data - fit_data)**2)/2"
   ]
  },
  {
   "cell_type": "code",
   "execution_count": null,
   "metadata": {},
   "outputs": [],
   "source": [
    "plot(X, (noisy_data - fit_data)**2)"
   ]
  },
  {
   "cell_type": "code",
   "execution_count": null,
   "metadata": {},
   "outputs": [],
   "source": [
    "plot(X, true_data, \".\")\n",
    "plot(X, noisy_data, \".\")\n",
    "plot(X, fit_data, \".\")\n",
    "# plt.ylim(5.99, 6.01)\n",
    "plt.grid()"
   ]
  },
  {
   "cell_type": "code",
   "execution_count": null,
   "metadata": {},
   "outputs": [],
   "source": [
    "hess = hessian(model_name, X, noisy_data, result.x)\n",
    "hess, 1/sqrt(diag(hess)), sqrt(diag(inv(hess)))"
   ]
  },
  {
   "cell_type": "markdown",
   "metadata": {},
   "source": [
    "array([2.2490e-01, 3.3744e+00, 2.6687e+00, 1.3286e+00, 9.5944e+01, 2.7482e+02]))\n",
    "\n",
    "array([2.2243e-01, 3.1117e+00, 2.6952e+00, 1.3441e+00, 8.7480e+01, 2.9580e+02]))\n",
    "\n",
    "array([1.9483e-01, 2.4486e+00, 2.6809e+00, 1.3229e+00, 6.7947e+01, 2.4691e+02]))\n",
    "\n",
    "array([2.6425e-01, 3.6389e+00, 4.7909e+00, 2.3712e+00, 9.7922e+01, 2.9823e+02]))\n",
    "\n",
    "array([2.5432e-01, 3.2805e+00, 4.7827e+00, 2.3603e+00, 8.7370e+01, 2.9681e+02]))\n",
    "\n",
    "array([2.5830e-01, 3.3495e+00, 4.7824e+00, 2.3880e+00, 8.9222e+01, 3.1076e+02]))\n",
    "\n",
    "array([2.5991e-01, 3.3787e+00, 4.7643e+00, 2.3661e+00, 8.9932e+01, 3.0918e+02]))"
   ]
  },
  {
   "cell_type": "code",
   "execution_count": 193,
   "metadata": {},
   "outputs": [
    {
     "data": {
      "text/plain": [
       "0.00010005645800415842"
      ]
     },
     "execution_count": 193,
     "metadata": {},
     "output_type": "execute_result"
    }
   ],
   "source": [
    "estimate_sigma(model_name, X, noisy_data, result.x)"
   ]
  },
  {
   "cell_type": "code",
   "execution_count": null,
   "metadata": {},
   "outputs": [],
   "source": [
    "sqrt(diag(inv(hess)))*estimate_sigma(model_name, X, noisy_data, result.x)"
   ]
  },
  {
   "cell_type": "code",
   "execution_count": null,
   "metadata": {},
   "outputs": [],
   "source": [
    "plot_loss(model_name, X, noisy_data, result.x, 100)\n",
    "plt.savefig(\"../Pictures/loss.pdf\", bbox_inches=\"tight\")\n",
    "# plt.gcf().set_size_inches(7,7)"
   ]
  },
  {
   "cell_type": "markdown",
   "metadata": {},
   "source": [
    "## Собственно, тест"
   ]
  },
  {
   "cell_type": "code",
   "execution_count": 20,
   "metadata": {},
   "outputs": [],
   "source": [
    "def calculate_analytic_fisher_information(X_vals):\n",
    "    symbolic_theta = Symbol(\"a\"), Symbol(\"b\"), Symbol(\"c\") \n",
    "    symbolic_theta = symbolic_theta[:len(params[model_name])]\n",
    "    X = Symbol(\"X\")\n",
    "    FM = FisherMatrix(X, [models[model_name](X, *symbolic_theta)], symbolic_theta)\n",
    "    return FM.calculate_numeric(X_vals, params[model_name], ones_like(X_vals))\n",
    "\n",
    "def fit_random(X, return_hess = True):\n",
    "    global freq_window\n",
    "    freq_window = 0.02\n",
    "    true_data = models[model_name](X, *params[model_name])\n",
    "    freq_window = 0.1\n",
    "\n",
    "    X_nonnan = X[~isnan(true_data)]\n",
    "    true_data = true_data[~isnan(true_data)]\n",
    "    noisy_data = add_noise(true_data, sigma, seed = False)\n",
    "    result = fit(model_name, X_nonnan, noisy_data)\n",
    "    if return_hess:\n",
    "        hess = hessian(model_name, X_nonnan, noisy_data, result.x, scales)\n",
    "        return X_nonnan, noisy_data, result, hess\n",
    "    else:\n",
    "        return X_nonnan, noisy_data, result\n",
    "\n",
    "def set_scales():\n",
    "    global X\n",
    "    X = linspace(0, 1, NOP)\n",
    "    X_nonnan, noisy_data, result = fit_random(X, False)\n",
    "    global scales\n",
    "    scales = find_param_scales(model_name, X_nonnan, noisy_data, result.x)\n",
    "\n",
    "def monte_carlo_test():\n",
    "    results = []\n",
    "    hessians = []\n",
    "    chi_sq = []\n",
    "    \n",
    "    for i in tqdm_notebook(range(MC_ITER)):\n",
    "        X_nonnan, noisy_data, result, hess = fit_random(X)\n",
    "        results.append(result.x)\n",
    "        hessians.append(hess)\n",
    "        chi_sq.append(estimate_sigma(model_name, X_nonnan, noisy_data, result.x))\n",
    "    return array(results), hessians, chi_sq\n",
    "\n",
    "def compare(results, verbose=False):\n",
    "    exp_var = var(results, axis=0, ddof=results.shape[1])\n",
    "    exp_cov = cov(results.T, ddof=results.shape[1])\n",
    "    \n",
    "    X_nonnan, noisy_data, result, hess = fit_random(X)\n",
    "    fit_data = models[model_name](X_nonnan, *result.x)\n",
    "    \n",
    "    plot(X_nonnan, noisy_data)\n",
    "    plot(X_nonnan, fit_data)\n",
    "\n",
    "    hess = hessian(model_name, X_nonnan, noisy_data, result.x)\n",
    "#     hess_sigma = sqrt(diag(inv(hess)))*estimate_sigma(model_name, X_nonnan, noisy_data, result.x)\n",
    "    hess_var = diag(inv(hess))*sigma**2\n",
    "\n",
    "#     hess_cov = inv(hess)*estimate_sigma(model_name, X_nonnan, noisy_data, result.x)**2\n",
    "    hess_cov = inv(hess)*sigma**2\n",
    "    \n",
    "#     print(exp_var-hess_var, exp_cov-hess_cov)\n",
    "    \n",
    "    if verbose:\n",
    "        print(result.x, \"\\n\", hess, \"\\n\", hess_cov, \"\\n\", exp_cov)\n",
    "    print(\"Var error, %:\")\n",
    "    print((exp_var-hess_var)/exp_var*100)\n",
    "    print(\"Cov error, %:\")\n",
    "    print((exp_cov-hess_cov)/abs(exp_cov)*100)\n",
    "    \n",
    "\n",
    "def plot_convergence(results):\n",
    "    results = (results - mean(results, 0))\n",
    "    means = abs(cumsum(results, 0).T/linspace(1, len(results), len(results)))\n",
    "    plot(means.T)\n",
    "    plt.gcf().set_size_inches(10,1)\n",
    "    yscale(\"log\")\n",
    "\n",
    "def plot_hist(results):\n",
    "    n_plots = results.shape[1]\n",
    "    nrows = ceil(n_plots/3)\n",
    "    ncols = n_plots if n_plots <= 3 else 3\n",
    "    fig, axes = plt.subplots(nrows, ncols, squeeze=False, figsize=(5*ncols, 2.5*nrows))\n",
    "    axes = axes.ravel()\n",
    "    for i in range(results.shape[1]):\n",
    "        axes[i].hist(results[:,i], 100, color=\"C%d\"%i)\n",
    "#         axes[i].set_yscale(\"log\")\n",
    "        axes[i].set_ylabel(\"Counts\")\n",
    "        axes[i].set_xlabel(param_names[model_name][i])\n",
    "        axes[i].xaxis.set_tick_params(rotation=20)\n",
    "    plt.tight_layout()\n",
    "\n",
    "def hessian_var_hist(hessians, results, analytic_hess = None):\n",
    "    exp_var = var(results, axis=0, ddof=results.shape[1]).T\n",
    "\n",
    "    variances = []\n",
    "    for hess in hessians:\n",
    "        variances.append(diag(inv(hess))*sigma**2)\n",
    "    variances = array(variances)\n",
    "    if analytic_hess is not None:\n",
    "        analytic_variances = diag(inv(analytic_hess))*sigma**2\n",
    "    \n",
    "    n_plots = variances.shape[1]\n",
    "    nrows = ceil(n_plots/3)\n",
    "    ncols = n_plots if n_plots <= 3 else 3\n",
    "    fig, axes = plt.subplots(nrows, ncols, squeeze=False, figsize=(5*ncols, 2.5*nrows))\n",
    "    axes = axes.ravel()\n",
    "    for idx, variance_arr in enumerate(variances.T):\n",
    "#         print(mean(variance_arr))\n",
    "        variance_arr_no_outliers = variance_arr[abs(variance_arr - np.mean(variance_arr)) < 3 * np.std(variance_arr)]\n",
    "        axes[idx].hist(variance_arr_no_outliers, len(hessians)//100, color=\"C%d\"%idx)\n",
    "        axes[idx].plot([mean(variance_arr)]*2, [0, 200], \"--x\", color = \"red\", label=\"Mean Hessian var\")\n",
    "        axes[idx].plot([exp_var[idx]]*2, [0, 200], \"-x\", color=\"red\", label=\"Experimental var\")\n",
    "#         axes[idx].set_yscale(\"log\")\n",
    "        axes[idx].set_title(param_names[model_name][idx])\n",
    "        axes[idx].set_ylabel(\"Counts\")\n",
    "        axes[idx].set_xlabel(\"$H_{ii}$ value\")\n",
    "        if analytic_hess is not None:\n",
    "            axes[idx].plot([analytic_variances[idx]]*2, [0, 200], \"-*\", color=\"red\", label=\"Analytic Hessian var\")\n",
    "    \n",
    "        axes[idx].xaxis.set_tick_params(rotation=20)\n",
    "#         axes[idx].set_xlim(mean(variance_arr), exp_var[idx])\n",
    "    axes[0].legend()\n",
    "    plt.tight_layout()"
   ]
  },
  {
   "cell_type": "markdown",
   "metadata": {},
   "source": [
    "### Относительная ошибка в дисперсиях-ковариациях"
   ]
  },
  {
   "cell_type": "code",
   "execution_count": 14,
   "metadata": {},
   "outputs": [],
   "source": [
    "numpy.set_printoptions(precision=4)"
   ]
  },
  {
   "cell_type": "code",
   "execution_count": 15,
   "metadata": {},
   "outputs": [],
   "source": [
    "MC_ITER = 5000\n",
    "NOP = 1001"
   ]
  },
  {
   "cell_type": "code",
   "execution_count": 18,
   "metadata": {},
   "outputs": [
    {
     "data": {
      "application/vnd.jupyter.widget-view+json": {
       "model_id": "085c8c4e5e6c4eeda60390e58d33cc4e",
       "version_major": 2,
       "version_minor": 0
      },
      "text/plain": [
       "HBox(children=(IntProgress(value=0, max=5000), HTML(value='')))"
      ]
     },
     "metadata": {},
     "output_type": "display_data"
    },
    {
     "name": "stdout",
     "output_type": "stream",
     "text": [
      "\n",
      "[-0.0026] \n",
      " [[1001.]] \n",
      " [[9.99e-06]] \n",
      " 1.0570390059105572e-05\n",
      "Var error, %:\n",
      "[5.4906]\n",
      "Cov error, %:\n",
      "[[5.4906]]\n"
     ]
    },
    {
     "data": {
      "image/png": "[encoded data removed]",
      "text/plain": [
       "<Figure size 432x288 with 1 Axes>"
      ]
     },
     "metadata": {
      "needs_background": "light"
     },
     "output_type": "display_data"
    }
   ],
   "source": [
    "sigma = .1\n",
    "model_name = \"gau\"\n",
    "set_scales()\n",
    "results_gau, hessians_gau, losses = monte_carlo_test()\n",
    "compare(results_gau, True)"
   ]
  },
  {
   "cell_type": "code",
   "execution_count": 23,
   "metadata": {},
   "outputs": [
    {
     "data": {
      "image/png": "[encoded data removed]",
      "text/plain": [
       "<Figure size 432x288 with 1 Axes>"
      ]
     },
     "metadata": {
      "needs_background": "light"
     },
     "output_type": "display_data"
    }
   ],
   "source": [
    "analytic_FI = calculate_analytic_fisher_information(X)"
   ]
  },
  {
   "cell_type": "code",
   "execution_count": 24,
   "metadata": {},
   "outputs": [
    {
     "data": {
      "image/png": "[encoded data removed]",
      "text/plain": [
       "<Figure size 720x72 with 1 Axes>"
      ]
     },
     "metadata": {
      "needs_background": "light"
     },
     "output_type": "display_data"
    },
    {
     "data": {
      "text/plain": [
       "<Figure size 432x288 with 0 Axes>"
      ]
     },
     "metadata": {},
     "output_type": "display_data"
    },
    {
     "data": {
      "image/png": "[encoded data removed]",
      "text/plain": [
       "<Figure size 360x180 with 1 Axes>"
      ]
     },
     "metadata": {
      "needs_background": "light"
     },
     "output_type": "display_data"
    },
    {
     "data": {
      "text/plain": [
       "<Figure size 432x288 with 0 Axes>"
      ]
     },
     "metadata": {},
     "output_type": "display_data"
    },
    {
     "data": {
      "image/png": "[encoded data removed]",
      "text/plain": [
       "<Figure size 360x180 with 1 Axes>"
      ]
     },
     "metadata": {
      "needs_background": "light"
     },
     "output_type": "display_data"
    }
   ],
   "source": [
    "plot_convergence(results_gau); figure(); plot_hist(results_gau); figure(); hessian_var_hist(hessians_gau, results_gau, analytic_FI)"
   ]
  },
  {
   "cell_type": "code",
   "execution_count": 114,
   "metadata": {},
   "outputs": [
    {
     "data": {
      "text/plain": [
       "1001.0"
      ]
     },
     "execution_count": 114,
     "metadata": {},
     "output_type": "execute_result"
    }
   ],
   "source": [
    "sum([1/2*2 for x in X])"
   ]
  },
  {
   "cell_type": "code",
   "execution_count": 116,
   "metadata": {},
   "outputs": [
    {
     "data": {
      "text/plain": [
       "[array([[ 333.8335,  500.5   ],\n",
       "        [ 500.5   , 1001.    ]]), array([[ 333.8335,  500.5   ],\n",
       "        [ 500.5   , 1001.    ]]), array([[ 333.8335,  500.5   ],\n",
       "        [ 500.5   , 1001.    ]]), array([[ 333.8335,  500.5   ],\n",
       "        [ 500.5   , 1001.    ]]), array([[ 333.8335,  500.5   ],\n",
       "        [ 500.5   , 1001.    ]]), array([[ 333.8335,  500.5   ],\n",
       "        [ 500.5   , 1001.    ]]), array([[ 333.8335,  500.5   ],\n",
       "        [ 500.5   , 1001.    ]]), array([[ 333.8335,  500.5   ],\n",
       "        [ 500.5   , 1001.    ]]), array([[ 333.8335,  500.5   ],\n",
       "        [ 500.5   , 1001.    ]]), array([[ 333.8335,  500.5   ],\n",
       "        [ 500.5   , 1001.    ]]), array([[ 333.8335,  500.5   ],\n",
       "        [ 500.5   , 1001.    ]]), array([[ 333.8335,  500.5   ],\n",
       "        [ 500.5   , 1001.    ]]), array([[ 333.8335,  500.5   ],\n",
       "        [ 500.5   , 1001.    ]]), array([[ 333.8335,  500.5   ],\n",
       "        [ 500.5   , 1001.    ]]), array([[ 333.8335,  500.5   ],\n",
       "        [ 500.5   , 1001.    ]]), array([[ 333.8335,  500.5   ],\n",
       "        [ 500.5   , 1001.    ]]), array([[ 333.8335,  500.5   ],\n",
       "        [ 500.5   , 1001.    ]]), array([[ 333.8335,  500.5   ],\n",
       "        [ 500.5   , 1001.    ]]), array([[ 333.8335,  500.5   ],\n",
       "        [ 500.5   , 1001.    ]]), array([[ 333.8335,  500.5   ],\n",
       "        [ 500.5   , 1001.    ]]), array([[ 333.8335,  500.5   ],\n",
       "        [ 500.5   , 1001.    ]]), array([[ 333.8335,  500.5   ],\n",
       "        [ 500.5   , 1001.    ]]), array([[ 333.8335,  500.5   ],\n",
       "        [ 500.5   , 1001.    ]]), array([[ 333.8335,  500.5   ],\n",
       "        [ 500.5   , 1001.    ]]), array([[ 333.8335,  500.5   ],\n",
       "        [ 500.5   , 1001.    ]]), array([[ 333.8335,  500.5   ],\n",
       "        [ 500.5   , 1001.    ]]), array([[ 333.8335,  500.5   ],\n",
       "        [ 500.5   , 1001.    ]]), array([[ 333.8335,  500.5   ],\n",
       "        [ 500.5   , 1001.    ]]), array([[ 333.8335,  500.5   ],\n",
       "        [ 500.5   , 1001.    ]]), array([[ 333.8335,  500.5   ],\n",
       "        [ 500.5   , 1001.    ]]), array([[ 333.8335,  500.5   ],\n",
       "        [ 500.5   , 1001.    ]]), array([[ 333.8335,  500.5   ],\n",
       "        [ 500.5   , 1001.    ]]), array([[ 333.8335,  500.5   ],\n",
       "        [ 500.5   , 1001.    ]]), array([[ 333.8335,  500.5   ],\n",
       "        [ 500.5   , 1001.    ]]), array([[ 333.8335,  500.5   ],\n",
       "        [ 500.5   , 1001.    ]]), array([[ 333.8335,  500.5   ],\n",
       "        [ 500.5   , 1001.    ]]), array([[ 333.8335,  500.5   ],\n",
       "        [ 500.5   , 1001.    ]]), array([[ 333.8335,  500.5   ],\n",
       "        [ 500.5   , 1001.    ]]), array([[ 333.8335,  500.5   ],\n",
       "        [ 500.5   , 1001.    ]]), array([[ 333.8335,  500.5   ],\n",
       "        [ 500.5   , 1001.    ]]), array([[ 333.8335,  500.5   ],\n",
       "        [ 500.5   , 1001.    ]]), array([[ 333.8335,  500.5   ],\n",
       "        [ 500.5   , 1001.    ]]), array([[ 333.8335,  500.5   ],\n",
       "        [ 500.5   , 1001.    ]]), array([[ 333.8335,  500.5   ],\n",
       "        [ 500.5   , 1001.    ]]), array([[ 333.8335,  500.5   ],\n",
       "        [ 500.5   , 1001.    ]]), array([[ 333.8335,  500.5   ],\n",
       "        [ 500.5   , 1001.    ]]), array([[ 333.8335,  500.5   ],\n",
       "        [ 500.5   , 1001.    ]]), array([[ 333.8335,  500.5   ],\n",
       "        [ 500.5   , 1001.    ]]), array([[ 333.8335,  500.5   ],\n",
       "        [ 500.5   , 1001.    ]]), array([[ 333.8335,  500.5   ],\n",
       "        [ 500.5   , 1001.    ]]), array([[ 333.8335,  500.5   ],\n",
       "        [ 500.5   , 1001.    ]]), array([[ 333.8335,  500.5   ],\n",
       "        [ 500.5   , 1001.    ]]), array([[ 333.8335,  500.5   ],\n",
       "        [ 500.5   , 1001.    ]]), array([[ 333.8335,  500.5   ],\n",
       "        [ 500.5   , 1001.    ]]), array([[ 333.8335,  500.5   ],\n",
       "        [ 500.5   , 1001.    ]]), array([[ 333.8335,  500.5   ],\n",
       "        [ 500.5   , 1001.    ]]), array([[ 333.8335,  500.5   ],\n",
       "        [ 500.5   , 1001.    ]]), array([[ 333.8335,  500.5   ],\n",
       "        [ 500.5   , 1001.    ]]), array([[ 333.8335,  500.5   ],\n",
       "        [ 500.5   , 1001.    ]]), array([[ 333.8335,  500.5   ],\n",
       "        [ 500.5   , 1001.    ]]), array([[ 333.8335,  500.5   ],\n",
       "        [ 500.5   , 1001.    ]]), array([[ 333.8335,  500.5   ],\n",
       "        [ 500.5   , 1001.    ]]), array([[ 333.8335,  500.5   ],\n",
       "        [ 500.5   , 1001.    ]]), array([[ 333.8335,  500.5   ],\n",
       "        [ 500.5   , 1001.    ]]), array([[ 333.8335,  500.5   ],\n",
       "        [ 500.5   , 1001.    ]]), array([[ 333.8335,  500.5   ],\n",
       "        [ 500.5   , 1001.    ]]), array([[ 333.8335,  500.5   ],\n",
       "        [ 500.5   , 1001.    ]]), array([[ 333.8335,  500.5   ],\n",
       "        [ 500.5   , 1001.    ]]), array([[ 333.8335,  500.5   ],\n",
       "        [ 500.5   , 1001.    ]]), array([[ 333.8335,  500.5   ],\n",
       "        [ 500.5   , 1001.    ]]), array([[ 333.8335,  500.5   ],\n",
       "        [ 500.5   , 1001.    ]]), array([[ 333.8335,  500.5   ],\n",
       "        [ 500.5   , 1001.    ]]), array([[ 333.8335,  500.5   ],\n",
       "        [ 500.5   , 1001.    ]]), array([[ 333.8335,  500.5   ],\n",
       "        [ 500.5   , 1001.    ]]), array([[ 333.8335,  500.5   ],\n",
       "        [ 500.5   , 1001.    ]]), array([[ 333.8335,  500.5   ],\n",
       "        [ 500.5   , 1001.    ]]), array([[ 333.8335,  500.5   ],\n",
       "        [ 500.5   , 1001.    ]]), array([[ 333.8335,  500.5   ],\n",
       "        [ 500.5   , 1001.    ]]), array([[ 333.8335,  500.5   ],\n",
       "        [ 500.5   , 1001.    ]]), array([[ 333.8335,  500.5   ],\n",
       "        [ 500.5   , 1001.    ]]), array([[ 333.8335,  500.5   ],\n",
       "        [ 500.5   , 1001.    ]]), array([[ 333.8335,  500.5   ],\n",
       "        [ 500.5   , 1001.    ]]), array([[ 333.8335,  500.5   ],\n",
       "        [ 500.5   , 1001.    ]]), array([[ 333.8335,  500.5   ],\n",
       "        [ 500.5   , 1001.    ]]), array([[ 333.8335,  500.5   ],\n",
       "        [ 500.5   , 1001.    ]]), array([[ 333.8335,  500.5   ],\n",
       "        [ 500.5   , 1001.    ]]), array([[ 333.8335,  500.5   ],\n",
       "        [ 500.5   , 1001.    ]]), array([[ 333.8335,  500.5   ],\n",
       "        [ 500.5   , 1001.    ]]), array([[ 333.8335,  500.5   ],\n",
       "        [ 500.5   , 1001.    ]]), array([[ 333.8335,  500.5   ],\n",
       "        [ 500.5   , 1001.    ]]), array([[ 333.8335,  500.5   ],\n",
       "        [ 500.5   , 1001.    ]]), array([[ 333.8335,  500.5   ],\n",
       "        [ 500.5   , 1001.    ]]), array([[ 333.8335,  500.5   ],\n",
       "        [ 500.5   , 1001.    ]]), array([[ 333.8335,  500.5   ],\n",
       "        [ 500.5   , 1001.    ]]), array([[ 333.8335,  500.5   ],\n",
       "        [ 500.5   , 1001.    ]]), array([[ 333.8335,  500.5   ],\n",
       "        [ 500.5   , 1001.    ]]), array([[ 333.8335,  500.5   ],\n",
       "        [ 500.5   , 1001.    ]]), array([[ 333.8335,  500.5   ],\n",
       "        [ 500.5   , 1001.    ]]), array([[ 333.8335,  500.5   ],\n",
       "        [ 500.5   , 1001.    ]]), array([[ 333.8335,  500.5   ],\n",
       "        [ 500.5   , 1001.    ]]), array([[ 333.8335,  500.5   ],\n",
       "        [ 500.5   , 1001.    ]]), array([[ 333.8335,  500.5   ],\n",
       "        [ 500.5   , 1001.    ]]), array([[ 333.8335,  500.5   ],\n",
       "        [ 500.5   , 1001.    ]]), array([[ 333.8335,  500.5   ],\n",
       "        [ 500.5   , 1001.    ]]), array([[ 333.8335,  500.5   ],\n",
       "        [ 500.5   , 1001.    ]]), array([[ 333.8335,  500.5   ],\n",
       "        [ 500.5   , 1001.    ]]), array([[ 333.8335,  500.5   ],\n",
       "        [ 500.5   , 1001.    ]]), array([[ 333.8335,  500.5   ],\n",
       "        [ 500.5   , 1001.    ]]), array([[ 333.8335,  500.5   ],\n",
       "        [ 500.5   , 1001.    ]]), array([[ 333.8335,  500.5   ],\n",
       "        [ 500.5   , 1001.    ]]), array([[ 333.8335,  500.5   ],\n",
       "        [ 500.5   , 1001.    ]]), array([[ 333.8335,  500.5   ],\n",
       "        [ 500.5   , 1001.    ]]), array([[ 333.8335,  500.5   ],\n",
       "        [ 500.5   , 1001.    ]]), array([[ 333.8335,  500.5   ],\n",
       "        [ 500.5   , 1001.    ]]), array([[ 333.8335,  500.5   ],\n",
       "        [ 500.5   , 1001.    ]]), array([[ 333.8335,  500.5   ],\n",
       "        [ 500.5   , 1001.    ]]), array([[ 333.8335,  500.5   ],\n",
       "        [ 500.5   , 1001.    ]]), array([[ 333.8335,  500.5   ],\n",
       "        [ 500.5   , 1001.    ]]), array([[ 333.8335,  500.5   ],\n",
       "        [ 500.5   , 1001.    ]]), array([[ 333.8335,  500.5   ],\n",
       "        [ 500.5   , 1001.    ]]), array([[ 333.8335,  500.5   ],\n",
       "        [ 500.5   , 1001.    ]]), array([[ 333.8335,  500.5   ],\n",
       "        [ 500.5   , 1001.    ]]), array([[ 333.8335,  500.5   ],\n",
       "        [ 500.5   , 1001.    ]]), array([[ 333.8335,  500.5   ],\n",
       "        [ 500.5   , 1001.    ]]), array([[ 333.8335,  500.5   ],\n",
       "        [ 500.5   , 1001.    ]]), array([[ 333.8335,  500.5   ],\n",
       "        [ 500.5   , 1001.    ]]), array([[ 333.8335,  500.5   ],\n",
       "        [ 500.5   , 1001.    ]]), array([[ 333.8335,  500.5   ],\n",
       "        [ 500.5   , 1001.    ]]), array([[ 333.8335,  500.5   ],\n",
       "        [ 500.5   , 1001.    ]]), array([[ 333.8335,  500.5   ],\n",
       "        [ 500.5   , 1001.    ]]), array([[ 333.8335,  500.5   ],\n",
       "        [ 500.5   , 1001.    ]]), array([[ 333.8335,  500.5   ],\n",
       "        [ 500.5   , 1001.    ]]), array([[ 333.8335,  500.5   ],\n",
       "        [ 500.5   , 1001.    ]]), array([[ 333.8335,  500.5   ],\n",
       "        [ 500.5   , 1001.    ]]), array([[ 333.8335,  500.5   ],\n",
       "        [ 500.5   , 1001.    ]]), array([[ 333.8335,  500.5   ],\n",
       "        [ 500.5   , 1001.    ]]), array([[ 333.8335,  500.5   ],\n",
       "        [ 500.5   , 1001.    ]]), array([[ 333.8335,  500.5   ],\n",
       "        [ 500.5   , 1001.    ]]), array([[ 333.8335,  500.5   ],\n",
       "        [ 500.5   , 1001.    ]]), array([[ 333.8335,  500.5   ],\n",
       "        [ 500.5   , 1001.    ]]), array([[ 333.8335,  500.5   ],\n",
       "        [ 500.5   , 1001.    ]]), array([[ 333.8335,  500.5   ],\n",
       "        [ 500.5   , 1001.    ]]), array([[ 333.8335,  500.5   ],\n",
       "        [ 500.5   , 1001.    ]]), array([[ 333.8335,  500.5   ],\n",
       "        [ 500.5   , 1001.    ]]), array([[ 333.8335,  500.5   ],\n",
       "        [ 500.5   , 1001.    ]]), array([[ 333.8335,  500.5   ],\n",
       "        [ 500.5   , 1001.    ]]), array([[ 333.8335,  500.5   ],\n",
       "        [ 500.5   , 1001.    ]]), array([[ 333.8335,  500.5   ],\n",
       "        [ 500.5   , 1001.    ]]), array([[ 333.8335,  500.5   ],\n",
       "        [ 500.5   , 1001.    ]]), array([[ 333.8335,  500.5   ],\n",
       "        [ 500.5   , 1001.    ]]), array([[ 333.8335,  500.5   ],\n",
       "        [ 500.5   , 1001.    ]]), array([[ 333.8335,  500.5   ],\n",
       "        [ 500.5   , 1001.    ]]), array([[ 333.8335,  500.5   ],\n",
       "        [ 500.5   , 1001.    ]]), array([[ 333.8335,  500.5   ],\n",
       "        [ 500.5   , 1001.    ]]), array([[ 333.8335,  500.5   ],\n",
       "        [ 500.5   , 1001.    ]]), array([[ 333.8335,  500.5   ],\n",
       "        [ 500.5   , 1001.    ]]), array([[ 333.8335,  500.5   ],\n",
       "        [ 500.5   , 1001.    ]]), array([[ 333.8335,  500.5   ],\n",
       "        [ 500.5   , 1001.    ]]), array([[ 333.8335,  500.5   ],\n",
       "        [ 500.5   , 1001.    ]]), array([[ 333.8335,  500.5   ],\n",
       "        [ 500.5   , 1001.    ]]), array([[ 333.8335,  500.5   ],\n",
       "        [ 500.5   , 1001.    ]]), array([[ 333.8335,  500.5   ],\n",
       "        [ 500.5   , 1001.    ]]), array([[ 333.8335,  500.5   ],\n",
       "        [ 500.5   , 1001.    ]]), array([[ 333.8335,  500.5   ],\n",
       "        [ 500.5   , 1001.    ]]), array([[ 333.8335,  500.5   ],\n",
       "        [ 500.5   , 1001.    ]]), array([[ 333.8335,  500.5   ],\n",
       "        [ 500.5   , 1001.    ]]), array([[ 333.8335,  500.5   ],\n",
       "        [ 500.5   , 1001.    ]]), array([[ 333.8335,  500.5   ],\n",
       "        [ 500.5   , 1001.    ]]), array([[ 333.8335,  500.5   ],\n",
       "        [ 500.5   , 1001.    ]]), array([[ 333.8335,  500.5   ],\n",
       "        [ 500.5   , 1001.    ]]), array([[ 333.8335,  500.5   ],\n",
       "        [ 500.5   , 1001.    ]]), array([[ 333.8335,  500.5   ],\n",
       "        [ 500.5   , 1001.    ]]), array([[ 333.8335,  500.5   ],\n",
       "        [ 500.5   , 1001.    ]]), array([[ 333.8335,  500.5   ],\n",
       "        [ 500.5   , 1001.    ]]), array([[ 333.8335,  500.5   ],\n",
       "        [ 500.5   , 1001.    ]]), array([[ 333.8335,  500.5   ],\n",
       "        [ 500.5   , 1001.    ]]), array([[ 333.8335,  500.5   ],\n",
       "        [ 500.5   , 1001.    ]]), array([[ 333.8335,  500.5   ],\n",
       "        [ 500.5   , 1001.    ]]), array([[ 333.8335,  500.5   ],\n",
       "        [ 500.5   , 1001.    ]]), array([[ 333.8335,  500.5   ],\n",
       "        [ 500.5   , 1001.    ]]), array([[ 333.8335,  500.5   ],\n",
       "        [ 500.5   , 1001.    ]]), array([[ 333.8335,  500.5   ],\n",
       "        [ 500.5   , 1001.    ]]), array([[ 333.8335,  500.5   ],\n",
       "        [ 500.5   , 1001.    ]]), array([[ 333.8335,  500.5   ],\n",
       "        [ 500.5   , 1001.    ]]), array([[ 333.8335,  500.5   ],\n",
       "        [ 500.5   , 1001.    ]]), array([[ 333.8335,  500.5   ],\n",
       "        [ 500.5   , 1001.    ]]), array([[ 333.8335,  500.5   ],\n",
       "        [ 500.5   , 1001.    ]]), array([[ 333.8335,  500.5   ],\n",
       "        [ 500.5   , 1001.    ]]), array([[ 333.8335,  500.5   ],\n",
       "        [ 500.5   , 1001.    ]]), array([[ 333.8335,  500.5   ],\n",
       "        [ 500.5   , 1001.    ]]), array([[ 333.8335,  500.5   ],\n",
       "        [ 500.5   , 1001.    ]]), array([[ 333.8335,  500.5   ],\n",
       "        [ 500.5   , 1001.    ]]), array([[ 333.8335,  500.5   ],\n",
       "        [ 500.5   , 1001.    ]]), array([[ 333.8335,  500.5   ],\n",
       "        [ 500.5   , 1001.    ]]), array([[ 333.8335,  500.5   ],\n",
       "        [ 500.5   , 1001.    ]]), array([[ 333.8335,  500.5   ],\n",
       "        [ 500.5   , 1001.    ]]), array([[ 333.8335,  500.5   ],\n",
       "        [ 500.5   , 1001.    ]]), array([[ 333.8335,  500.5   ],\n",
       "        [ 500.5   , 1001.    ]]), array([[ 333.8335,  500.5   ],\n",
       "        [ 500.5   , 1001.    ]]), array([[ 333.8335,  500.5   ],\n",
       "        [ 500.5   , 1001.    ]]), array([[ 333.8335,  500.5   ],\n",
       "        [ 500.5   , 1001.    ]]), array([[ 333.8335,  500.5   ],\n",
       "        [ 500.5   , 1001.    ]]), array([[ 333.8335,  500.5   ],\n",
       "        [ 500.5   , 1001.    ]]), array([[ 333.8335,  500.5   ],\n",
       "        [ 500.5   , 1001.    ]]), array([[ 333.8335,  500.5   ],\n",
       "        [ 500.5   , 1001.    ]]), array([[ 333.8335,  500.5   ],\n",
       "        [ 500.5   , 1001.    ]]), array([[ 333.8335,  500.5   ],\n",
       "        [ 500.5   , 1001.    ]]), array([[ 333.8335,  500.5   ],\n",
       "        [ 500.5   , 1001.    ]]), array([[ 333.8335,  500.5   ],\n",
       "        [ 500.5   , 1001.    ]]), array([[ 333.8335,  500.5   ],\n",
       "        [ 500.5   , 1001.    ]]), array([[ 333.8335,  500.5   ],\n",
       "        [ 500.5   , 1001.    ]]), array([[ 333.8335,  500.5   ],\n",
       "        [ 500.5   , 1001.    ]]), array([[ 333.8335,  500.5   ],\n",
       "        [ 500.5   , 1001.    ]]), array([[ 333.8335,  500.5   ],\n",
       "        [ 500.5   , 1001.    ]]), array([[ 333.8335,  500.5   ],\n",
       "        [ 500.5   , 1001.    ]]), array([[ 333.8335,  500.5   ],\n",
       "        [ 500.5   , 1001.    ]]), array([[ 333.8335,  500.5   ],\n",
       "        [ 500.5   , 1001.    ]]), array([[ 333.8335,  500.5   ],\n",
       "        [ 500.5   , 1001.    ]]), array([[ 333.8335,  500.5   ],\n",
       "        [ 500.5   , 1001.    ]]), array([[ 333.8335,  500.5   ],\n",
       "        [ 500.5   , 1001.    ]]), array([[ 333.8335,  500.5   ],\n",
       "        [ 500.5   , 1001.    ]]), array([[ 333.8335,  500.5   ],\n",
       "        [ 500.5   , 1001.    ]]), array([[ 333.8335,  500.5   ],\n",
       "        [ 500.5   , 1001.    ]]), array([[ 333.8335,  500.5   ],\n",
       "        [ 500.5   , 1001.    ]]), array([[ 333.8335,  500.5   ],\n",
       "        [ 500.5   , 1001.    ]]), array([[ 333.8335,  500.5   ],\n",
       "        [ 500.5   , 1001.    ]]), array([[ 333.8335,  500.5   ],\n",
       "        [ 500.5   , 1001.    ]]), array([[ 333.8335,  500.5   ],\n",
       "        [ 500.5   , 1001.    ]]), array([[ 333.8335,  500.5   ],\n",
       "        [ 500.5   , 1001.    ]]), array([[ 333.8335,  500.5   ],\n",
       "        [ 500.5   , 1001.    ]]), array([[ 333.8335,  500.5   ],\n",
       "        [ 500.5   , 1001.    ]]), array([[ 333.8335,  500.5   ],\n",
       "        [ 500.5   , 1001.    ]]), array([[ 333.8335,  500.5   ],\n",
       "        [ 500.5   , 1001.    ]]), array([[ 333.8335,  500.5   ],\n",
       "        [ 500.5   , 1001.    ]]), array([[ 333.8335,  500.5   ],\n",
       "        [ 500.5   , 1001.    ]]), array([[ 333.8335,  500.5   ],\n",
       "        [ 500.5   , 1001.    ]]), array([[ 333.8335,  500.5   ],\n",
       "        [ 500.5   , 1001.    ]]), array([[ 333.8335,  500.5   ],\n",
       "        [ 500.5   , 1001.    ]]), array([[ 333.8335,  500.5   ],\n",
       "        [ 500.5   , 1001.    ]]), array([[ 333.8335,  500.5   ],\n",
       "        [ 500.5   , 1001.    ]]), array([[ 333.8335,  500.5   ],\n",
       "        [ 500.5   , 1001.    ]]), array([[ 333.8335,  500.5   ],\n",
       "        [ 500.5   , 1001.    ]]), array([[ 333.8335,  500.5   ],\n",
       "        [ 500.5   , 1001.    ]]), array([[ 333.8335,  500.5   ],\n",
       "        [ 500.5   , 1001.    ]]), array([[ 333.8335,  500.5   ],\n",
       "        [ 500.5   , 1001.    ]]), array([[ 333.8335,  500.5   ],\n",
       "        [ 500.5   , 1001.    ]]), array([[ 333.8335,  500.5   ],\n",
       "        [ 500.5   , 1001.    ]]), array([[ 333.8335,  500.5   ],\n",
       "        [ 500.5   , 1001.    ]]), array([[ 333.8335,  500.5   ],\n",
       "        [ 500.5   , 1001.    ]]), array([[ 333.8335,  500.5   ],\n",
       "        [ 500.5   , 1001.    ]]), array([[ 333.8335,  500.5   ],\n",
       "        [ 500.5   , 1001.    ]]), array([[ 333.8335,  500.5   ],\n",
       "        [ 500.5   , 1001.    ]]), array([[ 333.8335,  500.5   ],\n",
       "        [ 500.5   , 1001.    ]]), array([[ 333.8335,  500.5   ],\n",
       "        [ 500.5   , 1001.    ]]), array([[ 333.8335,  500.5   ],\n",
       "        [ 500.5   , 1001.    ]]), array([[ 333.8335,  500.5   ],\n",
       "        [ 500.5   , 1001.    ]]), array([[ 333.8335,  500.5   ],\n",
       "        [ 500.5   , 1001.    ]]), array([[ 333.8335,  500.5   ],\n",
       "        [ 500.5   , 1001.    ]]), array([[ 333.8335,  500.5   ],\n",
       "        [ 500.5   , 1001.    ]]), array([[ 333.8335,  500.5   ],\n",
       "        [ 500.5   , 1001.    ]]), array([[ 333.8335,  500.5   ],\n",
       "        [ 500.5   , 1001.    ]]), array([[ 333.8335,  500.5   ],\n",
       "        [ 500.5   , 1001.    ]]), array([[ 333.8335,  500.5   ],\n",
       "        [ 500.5   , 1001.    ]]), array([[ 333.8335,  500.5   ],\n",
       "        [ 500.5   , 1001.    ]]), array([[ 333.8335,  500.5   ],\n",
       "        [ 500.5   , 1001.    ]]), array([[ 333.8335,  500.5   ],\n",
       "        [ 500.5   , 1001.    ]]), array([[ 333.8335,  500.5   ],\n",
       "        [ 500.5   , 1001.    ]]), array([[ 333.8335,  500.5   ],\n",
       "        [ 500.5   , 1001.    ]]), array([[ 333.8335,  500.5   ],\n",
       "        [ 500.5   , 1001.    ]]), array([[ 333.8335,  500.5   ],\n",
       "        [ 500.5   , 1001.    ]]), array([[ 333.8335,  500.5   ],\n",
       "        [ 500.5   , 1001.    ]]), array([[ 333.8335,  500.5   ],\n",
       "        [ 500.5   , 1001.    ]]), array([[ 333.8335,  500.5   ],\n",
       "        [ 500.5   , 1001.    ]]), array([[ 333.8335,  500.5   ],\n",
       "        [ 500.5   , 1001.    ]]), array([[ 333.8335,  500.5   ],\n",
       "        [ 500.5   , 1001.    ]]), array([[ 333.8335,  500.5   ],\n",
       "        [ 500.5   , 1001.    ]]), array([[ 333.8335,  500.5   ],\n",
       "        [ 500.5   , 1001.    ]]), array([[ 333.8335,  500.5   ],\n",
       "        [ 500.5   , 1001.    ]]), array([[ 333.8335,  500.5   ],\n",
       "        [ 500.5   , 1001.    ]]), array([[ 333.8335,  500.5   ],\n",
       "        [ 500.5   , 1001.    ]]), array([[ 333.8335,  500.5   ],\n",
       "        [ 500.5   , 1001.    ]]), array([[ 333.8335,  500.5   ],\n",
       "        [ 500.5   , 1001.    ]]), array([[ 333.8335,  500.5   ],\n",
       "        [ 500.5   , 1001.    ]]), array([[ 333.8335,  500.5   ],\n",
       "        [ 500.5   , 1001.    ]]), array([[ 333.8335,  500.5   ],\n",
       "        [ 500.5   , 1001.    ]]), array([[ 333.8335,  500.5   ],\n",
       "        [ 500.5   , 1001.    ]]), array([[ 333.8335,  500.5   ],\n",
       "        [ 500.5   , 1001.    ]]), array([[ 333.8335,  500.5   ],\n",
       "        [ 500.5   , 1001.    ]]), array([[ 333.8335,  500.5   ],\n",
       "        [ 500.5   , 1001.    ]]), array([[ 333.8335,  500.5   ],\n",
       "        [ 500.5   , 1001.    ]]), array([[ 333.8335,  500.5   ],\n",
       "        [ 500.5   , 1001.    ]]), array([[ 333.8335,  500.5   ],\n",
       "        [ 500.5   , 1001.    ]]), array([[ 333.8335,  500.5   ],\n",
       "        [ 500.5   , 1001.    ]]), array([[ 333.8335,  500.5   ],\n",
       "        [ 500.5   , 1001.    ]]), array([[ 333.8335,  500.5   ],\n",
       "        [ 500.5   , 1001.    ]]), array([[ 333.8335,  500.5   ],\n",
       "        [ 500.5   , 1001.    ]]), array([[ 333.8335,  500.5   ],\n",
       "        [ 500.5   , 1001.    ]]), array([[ 333.8335,  500.5   ],\n",
       "        [ 500.5   , 1001.    ]]), array([[ 333.8335,  500.5   ],\n",
       "        [ 500.5   , 1001.    ]]), array([[ 333.8335,  500.5   ],\n",
       "        [ 500.5   , 1001.    ]]), array([[ 333.8335,  500.5   ],\n",
       "        [ 500.5   , 1001.    ]]), array([[ 333.8335,  500.5   ],\n",
       "        [ 500.5   , 1001.    ]]), array([[ 333.8335,  500.5   ],\n",
       "        [ 500.5   , 1001.    ]]), array([[ 333.8335,  500.5   ],\n",
       "        [ 500.5   , 1001.    ]]), array([[ 333.8335,  500.5   ],\n",
       "        [ 500.5   , 1001.    ]]), array([[ 333.8335,  500.5   ],\n",
       "        [ 500.5   , 1001.    ]]), array([[ 333.8335,  500.5   ],\n",
       "        [ 500.5   , 1001.    ]]), array([[ 333.8335,  500.5   ],\n",
       "        [ 500.5   , 1001.    ]]), array([[ 333.8335,  500.5   ],\n",
       "        [ 500.5   , 1001.    ]]), array([[ 333.8335,  500.5   ],\n",
       "        [ 500.5   , 1001.    ]]), array([[ 333.8335,  500.5   ],\n",
       "        [ 500.5   , 1001.    ]]), array([[ 333.8335,  500.5   ],\n",
       "        [ 500.5   , 1001.    ]]), array([[ 333.8335,  500.5   ],\n",
       "        [ 500.5   , 1001.    ]]), array([[ 333.8335,  500.5   ],\n",
       "        [ 500.5   , 1001.    ]]), array([[ 333.8335,  500.5   ],\n",
       "        [ 500.5   , 1001.    ]]), array([[ 333.8335,  500.5   ],\n",
       "        [ 500.5   , 1001.    ]]), array([[ 333.8335,  500.5   ],\n",
       "        [ 500.5   , 1001.    ]]), array([[ 333.8335,  500.5   ],\n",
       "        [ 500.5   , 1001.    ]]), array([[ 333.8335,  500.5   ],\n",
       "        [ 500.5   , 1001.    ]]), array([[ 333.8335,  500.5   ],\n",
       "        [ 500.5   , 1001.    ]]), array([[ 333.8335,  500.5   ],\n",
       "        [ 500.5   , 1001.    ]]), array([[ 333.8335,  500.5   ],\n",
       "        [ 500.5   , 1001.    ]]), array([[ 333.8335,  500.5   ],\n",
       "        [ 500.5   , 1001.    ]]), array([[ 333.8335,  500.5   ],\n",
       "        [ 500.5   , 1001.    ]]), array([[ 333.8335,  500.5   ],\n",
       "        [ 500.5   , 1001.    ]]), array([[ 333.8335,  500.5   ],\n",
       "        [ 500.5   , 1001.    ]]), array([[ 333.8335,  500.5   ],\n",
       "        [ 500.5   , 1001.    ]]), array([[ 333.8335,  500.5   ],\n",
       "        [ 500.5   , 1001.    ]]), array([[ 333.8335,  500.5   ],\n",
       "        [ 500.5   , 1001.    ]]), array([[ 333.8335,  500.5   ],\n",
       "        [ 500.5   , 1001.    ]]), array([[ 333.8335,  500.5   ],\n",
       "        [ 500.5   , 1001.    ]]), array([[ 333.8335,  500.5   ],\n",
       "        [ 500.5   , 1001.    ]]), array([[ 333.8335,  500.5   ],\n",
       "        [ 500.5   , 1001.    ]]), array([[ 333.8335,  500.5   ],\n",
       "        [ 500.5   , 1001.    ]]), array([[ 333.8335,  500.5   ],\n",
       "        [ 500.5   , 1001.    ]]), array([[ 333.8335,  500.5   ],\n",
       "        [ 500.5   , 1001.    ]]), array([[ 333.8335,  500.5   ],\n",
       "        [ 500.5   , 1001.    ]]), array([[ 333.8335,  500.5   ],\n",
       "        [ 500.5   , 1001.    ]]), array([[ 333.8335,  500.5   ],\n",
       "        [ 500.5   , 1001.    ]]), array([[ 333.8335,  500.5   ],\n",
       "        [ 500.5   , 1001.    ]]), array([[ 333.8335,  500.5   ],\n",
       "        [ 500.5   , 1001.    ]]), array([[ 333.8335,  500.5   ],\n",
       "        [ 500.5   , 1001.    ]]), array([[ 333.8335,  500.5   ],\n",
       "        [ 500.5   , 1001.    ]]), array([[ 333.8335,  500.5   ],\n",
       "        [ 500.5   , 1001.    ]]), array([[ 333.8335,  500.5   ],\n",
       "        [ 500.5   , 1001.    ]]), array([[ 333.8335,  500.5   ],\n",
       "        [ 500.5   , 1001.    ]]), array([[ 333.8335,  500.5   ],\n",
       "        [ 500.5   , 1001.    ]]), array([[ 333.8335,  500.5   ],\n",
       "        [ 500.5   , 1001.    ]]), array([[ 333.8335,  500.5   ],\n",
       "        [ 500.5   , 1001.    ]]), array([[ 333.8335,  500.5   ],\n",
       "        [ 500.5   , 1001.    ]]), array([[ 333.8335,  500.5   ],\n",
       "        [ 500.5   , 1001.    ]]), array([[ 333.8335,  500.5   ],\n",
       "        [ 500.5   , 1001.    ]]), array([[ 333.8335,  500.5   ],\n",
       "        [ 500.5   , 1001.    ]]), array([[ 333.8335,  500.5   ],\n",
       "        [ 500.5   , 1001.    ]]), array([[ 333.8335,  500.5   ],\n",
       "        [ 500.5   , 1001.    ]]), array([[ 333.8335,  500.5   ],\n",
       "        [ 500.5   , 1001.    ]]), array([[ 333.8335,  500.5   ],\n",
       "        [ 500.5   , 1001.    ]]), array([[ 333.8335,  500.5   ],\n",
       "        [ 500.5   , 1001.    ]]), array([[ 333.8335,  500.5   ],\n",
       "        [ 500.5   , 1001.    ]]), array([[ 333.8335,  500.5   ],\n",
       "        [ 500.5   , 1001.    ]]), array([[ 333.8335,  500.5   ],\n",
       "        [ 500.5   , 1001.    ]]), array([[ 333.8335,  500.5   ],\n",
       "        [ 500.5   , 1001.    ]]), array([[ 333.8335,  500.5   ],\n",
       "        [ 500.5   , 1001.    ]]), array([[ 333.8335,  500.5   ],\n",
       "        [ 500.5   , 1001.    ]]), array([[ 333.8335,  500.5   ],\n",
       "        [ 500.5   , 1001.    ]]), array([[ 333.8335,  500.5   ],\n",
       "        [ 500.5   , 1001.    ]]), array([[ 333.8335,  500.5   ],\n",
       "        [ 500.5   , 1001.    ]]), array([[ 333.8335,  500.5   ],\n",
       "        [ 500.5   , 1001.    ]]), array([[ 333.8335,  500.5   ],\n",
       "        [ 500.5   , 1001.    ]]), array([[ 333.8335,  500.5   ],\n",
       "        [ 500.5   , 1001.    ]]), array([[ 333.8335,  500.5   ],\n",
       "        [ 500.5   , 1001.    ]]), array([[ 333.8335,  500.5   ],\n",
       "        [ 500.5   , 1001.    ]]), array([[ 333.8335,  500.5   ],\n",
       "        [ 500.5   , 1001.    ]]), array([[ 333.8335,  500.5   ],\n",
       "        [ 500.5   , 1001.    ]]), array([[ 333.8335,  500.5   ],\n",
       "        [ 500.5   , 1001.    ]]), array([[ 333.8335,  500.5   ],\n",
       "        [ 500.5   , 1001.    ]]), array([[ 333.8335,  500.5   ],\n",
       "        [ 500.5   , 1001.    ]]), array([[ 333.8335,  500.5   ],\n",
       "        [ 500.5   , 1001.    ]]), array([[ 333.8335,  500.5   ],\n",
       "        [ 500.5   , 1001.    ]]), array([[ 333.8335,  500.5   ],\n",
       "        [ 500.5   , 1001.    ]]), array([[ 333.8335,  500.5   ],\n",
       "        [ 500.5   , 1001.    ]]), array([[ 333.8335,  500.5   ],\n",
       "        [ 500.5   , 1001.    ]]), array([[ 333.8335,  500.5   ],\n",
       "        [ 500.5   , 1001.    ]]), array([[ 333.8335,  500.5   ],\n",
       "        [ 500.5   , 1001.    ]]), array([[ 333.8335,  500.5   ],\n",
       "        [ 500.5   , 1001.    ]]), array([[ 333.8335,  500.5   ],\n",
       "        [ 500.5   , 1001.    ]]), array([[ 333.8335,  500.5   ],\n",
       "        [ 500.5   , 1001.    ]]), array([[ 333.8335,  500.5   ],\n",
       "        [ 500.5   , 1001.    ]]), array([[ 333.8335,  500.5   ],\n",
       "        [ 500.5   , 1001.    ]]), array([[ 333.8335,  500.5   ],\n",
       "        [ 500.5   , 1001.    ]]), array([[ 333.8335,  500.5   ],\n",
       "        [ 500.5   , 1001.    ]]), array([[ 333.8335,  500.5   ],\n",
       "        [ 500.5   , 1001.    ]]), array([[ 333.8335,  500.5   ],\n",
       "        [ 500.5   , 1001.    ]]), array([[ 333.8335,  500.5   ],\n",
       "        [ 500.5   , 1001.    ]]), array([[ 333.8335,  500.5   ],\n",
       "        [ 500.5   , 1001.    ]]), array([[ 333.8335,  500.5   ],\n",
       "        [ 500.5   , 1001.    ]]), array([[ 333.8335,  500.5   ],\n",
       "        [ 500.5   , 1001.    ]]), array([[ 333.8335,  500.5   ],\n",
       "        [ 500.5   , 1001.    ]]), array([[ 333.8335,  500.5   ],\n",
       "        [ 500.5   , 1001.    ]]), array([[ 333.8335,  500.5   ],\n",
       "        [ 500.5   , 1001.    ]]), array([[ 333.8335,  500.5   ],\n",
       "        [ 500.5   , 1001.    ]]), array([[ 333.8335,  500.5   ],\n",
       "        [ 500.5   , 1001.    ]]), array([[ 333.8335,  500.5   ],\n",
       "        [ 500.5   , 1001.    ]]), array([[ 333.8335,  500.5   ],\n",
       "        [ 500.5   , 1001.    ]]), array([[ 333.8335,  500.5   ],\n",
       "        [ 500.5   , 1001.    ]]), array([[ 333.8335,  500.5   ],\n",
       "        [ 500.5   , 1001.    ]]), array([[ 333.8335,  500.5   ],\n",
       "        [ 500.5   , 1001.    ]]), array([[ 333.8335,  500.5   ],\n",
       "        [ 500.5   , 1001.    ]]), array([[ 333.8335,  500.5   ],\n",
       "        [ 500.5   , 1001.    ]]), array([[ 333.8335,  500.5   ],\n",
       "        [ 500.5   , 1001.    ]]), array([[ 333.8335,  500.5   ],\n",
       "        [ 500.5   , 1001.    ]]), array([[ 333.8335,  500.5   ],\n",
       "        [ 500.5   , 1001.    ]]), array([[ 333.8335,  500.5   ],\n",
       "        [ 500.5   , 1001.    ]]), array([[ 333.8335,  500.5   ],\n",
       "        [ 500.5   , 1001.    ]]), array([[ 333.8335,  500.5   ],\n",
       "        [ 500.5   , 1001.    ]]), array([[ 333.8335,  500.5   ],\n",
       "        [ 500.5   , 1001.    ]]), array([[ 333.8335,  500.5   ],\n",
       "        [ 500.5   , 1001.    ]]), array([[ 333.8335,  500.5   ],\n",
       "        [ 500.5   , 1001.    ]]), array([[ 333.8335,  500.5   ],\n",
       "        [ 500.5   , 1001.    ]]), array([[ 333.8335,  500.5   ],\n",
       "        [ 500.5   , 1001.    ]]), array([[ 333.8335,  500.5   ],\n",
       "        [ 500.5   , 1001.    ]]), array([[ 333.8335,  500.5   ],\n",
       "        [ 500.5   , 1001.    ]]), array([[ 333.8335,  500.5   ],\n",
       "        [ 500.5   , 1001.    ]]), array([[ 333.8335,  500.5   ],\n",
       "        [ 500.5   , 1001.    ]]), array([[ 333.8335,  500.5   ],\n",
       "        [ 500.5   , 1001.    ]]), array([[ 333.8335,  500.5   ],\n",
       "        [ 500.5   , 1001.    ]]), array([[ 333.8335,  500.5   ],\n",
       "        [ 500.5   , 1001.    ]]), array([[ 333.8335,  500.5   ],\n",
       "        [ 500.5   , 1001.    ]]), array([[ 333.8335,  500.5   ],\n",
       "        [ 500.5   , 1001.    ]]), array([[ 333.8335,  500.5   ],\n",
       "        [ 500.5   , 1001.    ]]), array([[ 333.8335,  500.5   ],\n",
       "        [ 500.5   , 1001.    ]]), array([[ 333.8335,  500.5   ],\n",
       "        [ 500.5   , 1001.    ]]), array([[ 333.8335,  500.5   ],\n",
       "        [ 500.5   , 1001.    ]]), array([[ 333.8335,  500.5   ],\n",
       "        [ 500.5   , 1001.    ]]), array([[ 333.8335,  500.5   ],\n",
       "        [ 500.5   , 1001.    ]]), array([[ 333.8335,  500.5   ],\n",
       "        [ 500.5   , 1001.    ]]), array([[ 333.8335,  500.5   ],\n",
       "        [ 500.5   , 1001.    ]]), array([[ 333.8335,  500.5   ],\n",
       "        [ 500.5   , 1001.    ]]), array([[ 333.8335,  500.5   ],\n",
       "        [ 500.5   , 1001.    ]]), array([[ 333.8335,  500.5   ],\n",
       "        [ 500.5   , 1001.    ]]), array([[ 333.8335,  500.5   ],\n",
       "        [ 500.5   , 1001.    ]]), array([[ 333.8335,  500.5   ],\n",
       "        [ 500.5   , 1001.    ]]), array([[ 333.8335,  500.5   ],\n",
       "        [ 500.5   , 1001.    ]]), array([[ 333.8335,  500.5   ],\n",
       "        [ 500.5   , 1001.    ]]), array([[ 333.8335,  500.5   ],\n",
       "        [ 500.5   , 1001.    ]]), array([[ 333.8335,  500.5   ],\n",
       "        [ 500.5   , 1001.    ]]), array([[ 333.8335,  500.5   ],\n",
       "        [ 500.5   , 1001.    ]]), array([[ 333.8335,  500.5   ],\n",
       "        [ 500.5   , 1001.    ]]), array([[ 333.8335,  500.5   ],\n",
       "        [ 500.5   , 1001.    ]]), array([[ 333.8335,  500.5   ],\n",
       "        [ 500.5   , 1001.    ]]), array([[ 333.8335,  500.5   ],\n",
       "        [ 500.5   , 1001.    ]]), array([[ 333.8335,  500.5   ],\n",
       "        [ 500.5   , 1001.    ]]), array([[ 333.8335,  500.5   ],\n",
       "        [ 500.5   , 1001.    ]]), array([[ 333.8335,  500.5   ],\n",
       "        [ 500.5   , 1001.    ]]), array([[ 333.8335,  500.5   ],\n",
       "        [ 500.5   , 1001.    ]]), array([[ 333.8335,  500.5   ],\n",
       "        [ 500.5   , 1001.    ]]), array([[ 333.8335,  500.5   ],\n",
       "        [ 500.5   , 1001.    ]]), array([[ 333.8335,  500.5   ],\n",
       "        [ 500.5   , 1001.    ]]), array([[ 333.8335,  500.5   ],\n",
       "        [ 500.5   , 1001.    ]]), array([[ 333.8335,  500.5   ],\n",
       "        [ 500.5   , 1001.    ]]), array([[ 333.8335,  500.5   ],\n",
       "        [ 500.5   , 1001.    ]]), array([[ 333.8335,  500.5   ],\n",
       "        [ 500.5   , 1001.    ]]), array([[ 333.8335,  500.5   ],\n",
       "        [ 500.5   , 1001.    ]]), array([[ 333.8335,  500.5   ],\n",
       "        [ 500.5   , 1001.    ]]), array([[ 333.8335,  500.5   ],\n",
       "        [ 500.5   , 1001.    ]]), array([[ 333.8335,  500.5   ],\n",
       "        [ 500.5   , 1001.    ]]), array([[ 333.8335,  500.5   ],\n",
       "        [ 500.5   , 1001.    ]]), array([[ 333.8335,  500.5   ],\n",
       "        [ 500.5   , 1001.    ]]), array([[ 333.8335,  500.5   ],\n",
       "        [ 500.5   , 1001.    ]]), array([[ 333.8335,  500.5   ],\n",
       "        [ 500.5   , 1001.    ]]), array([[ 333.8335,  500.5   ],\n",
       "        [ 500.5   , 1001.    ]]), array([[ 333.8335,  500.5   ],\n",
       "        [ 500.5   , 1001.    ]]), array([[ 333.8335,  500.5   ],\n",
       "        [ 500.5   , 1001.    ]]), array([[ 333.8335,  500.5   ],\n",
       "        [ 500.5   , 1001.    ]]), array([[ 333.8335,  500.5   ],\n",
       "        [ 500.5   , 1001.    ]]), array([[ 333.8335,  500.5   ],\n",
       "        [ 500.5   , 1001.    ]]), array([[ 333.8335,  500.5   ],\n",
       "        [ 500.5   , 1001.    ]]), array([[ 333.8335,  500.5   ],\n",
       "        [ 500.5   , 1001.    ]]), array([[ 333.8335,  500.5   ],\n",
       "        [ 500.5   , 1001.    ]]), array([[ 333.8335,  500.5   ],\n",
       "        [ 500.5   , 1001.    ]]), array([[ 333.8335,  500.5   ],\n",
       "        [ 500.5   , 1001.    ]]), array([[ 333.8335,  500.5   ],\n",
       "        [ 500.5   , 1001.    ]]), array([[ 333.8335,  500.5   ],\n",
       "        [ 500.5   , 1001.    ]]), array([[ 333.8335,  500.5   ],\n",
       "        [ 500.5   , 1001.    ]]), array([[ 333.8335,  500.5   ],\n",
       "        [ 500.5   , 1001.    ]]), array([[ 333.8335,  500.5   ],\n",
       "        [ 500.5   , 1001.    ]]), array([[ 333.8335,  500.5   ],\n",
       "        [ 500.5   , 1001.    ]]), array([[ 333.8335,  500.5   ],\n",
       "        [ 500.5   , 1001.    ]]), array([[ 333.8335,  500.5   ],\n",
       "        [ 500.5   , 1001.    ]]), array([[ 333.8335,  500.5   ],\n",
       "        [ 500.5   , 1001.    ]]), array([[ 333.8335,  500.5   ],\n",
       "        [ 500.5   , 1001.    ]]), array([[ 333.8335,  500.5   ],\n",
       "        [ 500.5   , 1001.    ]]), array([[ 333.8335,  500.5   ],\n",
       "        [ 500.5   , 1001.    ]]), array([[ 333.8335,  500.5   ],\n",
       "        [ 500.5   , 1001.    ]]), array([[ 333.8335,  500.5   ],\n",
       "        [ 500.5   , 1001.    ]]), array([[ 333.8335,  500.5   ],\n",
       "        [ 500.5   , 1001.    ]]), array([[ 333.8335,  500.5   ],\n",
       "        [ 500.5   , 1001.    ]]), array([[ 333.8335,  500.5   ],\n",
       "        [ 500.5   , 1001.    ]]), array([[ 333.8335,  500.5   ],\n",
       "        [ 500.5   , 1001.    ]]), array([[ 333.8335,  500.5   ],\n",
       "        [ 500.5   , 1001.    ]]), array([[ 333.8335,  500.5   ],\n",
       "        [ 500.5   , 1001.    ]]), array([[ 333.8335,  500.5   ],\n",
       "        [ 500.5   , 1001.    ]]), array([[ 333.8335,  500.5   ],\n",
       "        [ 500.5   , 1001.    ]]), array([[ 333.8335,  500.5   ],\n",
       "        [ 500.5   , 1001.    ]]), array([[ 333.8335,  500.5   ],\n",
       "        [ 500.5   , 1001.    ]]), array([[ 333.8335,  500.5   ],\n",
       "        [ 500.5   , 1001.    ]]), array([[ 333.8335,  500.5   ],\n",
       "        [ 500.5   , 1001.    ]]), array([[ 333.8335,  500.5   ],\n",
       "        [ 500.5   , 1001.    ]]), array([[ 333.8335,  500.5   ],\n",
       "        [ 500.5   , 1001.    ]]), array([[ 333.8335,  500.5   ],\n",
       "        [ 500.5   , 1001.    ]]), array([[ 333.8335,  500.5   ],\n",
       "        [ 500.5   , 1001.    ]]), array([[ 333.8335,  500.5   ],\n",
       "        [ 500.5   , 1001.    ]]), array([[ 333.8335,  500.5   ],\n",
       "        [ 500.5   , 1001.    ]]), array([[ 333.8335,  500.5   ],\n",
       "        [ 500.5   , 1001.    ]]), array([[ 333.8335,  500.5   ],\n",
       "        [ 500.5   , 1001.    ]]), array([[ 333.8335,  500.5   ],\n",
       "        [ 500.5   , 1001.    ]]), array([[ 333.8335,  500.5   ],\n",
       "        [ 500.5   , 1001.    ]]), array([[ 333.8335,  500.5   ],\n",
       "        [ 500.5   , 1001.    ]]), array([[ 333.8335,  500.5   ],\n",
       "        [ 500.5   , 1001.    ]]), array([[ 333.8335,  500.5   ],\n",
       "        [ 500.5   , 1001.    ]]), array([[ 333.8335,  500.5   ],\n",
       "        [ 500.5   , 1001.    ]]), array([[ 333.8335,  500.5   ],\n",
       "        [ 500.5   , 1001.    ]]), array([[ 333.8335,  500.5   ],\n",
       "        [ 500.5   , 1001.    ]]), array([[ 333.8335,  500.5   ],\n",
       "        [ 500.5   , 1001.    ]]), array([[ 333.8335,  500.5   ],\n",
       "        [ 500.5   , 1001.    ]]), array([[ 333.8335,  500.5   ],\n",
       "        [ 500.5   , 1001.    ]]), array([[ 333.8335,  500.5   ],\n",
       "        [ 500.5   , 1001.    ]]), array([[ 333.8335,  500.5   ],\n",
       "        [ 500.5   , 1001.    ]]), array([[ 333.8335,  500.5   ],\n",
       "        [ 500.5   , 1001.    ]]), array([[ 333.8335,  500.5   ],\n",
       "        [ 500.5   , 1001.    ]]), array([[ 333.8335,  500.5   ],\n",
       "        [ 500.5   , 1001.    ]]), array([[ 333.8335,  500.5   ],\n",
       "        [ 500.5   , 1001.    ]]), array([[ 333.8335,  500.5   ],\n",
       "        [ 500.5   , 1001.    ]]), array([[ 333.8335,  500.5   ],\n",
       "        [ 500.5   , 1001.    ]]), array([[ 333.8335,  500.5   ],\n",
       "        [ 500.5   , 1001.    ]]), array([[ 333.8335,  500.5   ],\n",
       "        [ 500.5   , 1001.    ]]), array([[ 333.8335,  500.5   ],\n",
       "        [ 500.5   , 1001.    ]]), array([[ 333.8335,  500.5   ],\n",
       "        [ 500.5   , 1001.    ]]), array([[ 333.8335,  500.5   ],\n",
       "        [ 500.5   , 1001.    ]]), array([[ 333.8335,  500.5   ],\n",
       "        [ 500.5   , 1001.    ]]), array([[ 333.8335,  500.5   ],\n",
       "        [ 500.5   , 1001.    ]]), array([[ 333.8335,  500.5   ],\n",
       "        [ 500.5   , 1001.    ]]), array([[ 333.8335,  500.5   ],\n",
       "        [ 500.5   , 1001.    ]]), array([[ 333.8335,  500.5   ],\n",
       "        [ 500.5   , 1001.    ]]), array([[ 333.8335,  500.5   ],\n",
       "        [ 500.5   , 1001.    ]]), array([[ 333.8335,  500.5   ],\n",
       "        [ 500.5   , 1001.    ]]), array([[ 333.8335,  500.5   ],\n",
       "        [ 500.5   , 1001.    ]]), array([[ 333.8335,  500.5   ],\n",
       "        [ 500.5   , 1001.    ]]), array([[ 333.8335,  500.5   ],\n",
       "        [ 500.5   , 1001.    ]]), array([[ 333.8335,  500.5   ],\n",
       "        [ 500.5   , 1001.    ]]), array([[ 333.8335,  500.5   ],\n",
       "        [ 500.5   , 1001.    ]]), array([[ 333.8335,  500.5   ],\n",
       "        [ 500.5   , 1001.    ]]), array([[ 333.8335,  500.5   ],\n",
       "        [ 500.5   , 1001.    ]]), array([[ 333.8335,  500.5   ],\n",
       "        [ 500.5   , 1001.    ]]), array([[ 333.8335,  500.5   ],\n",
       "        [ 500.5   , 1001.    ]]), array([[ 333.8335,  500.5   ],\n",
       "        [ 500.5   , 1001.    ]]), array([[ 333.8335,  500.5   ],\n",
       "        [ 500.5   , 1001.    ]]), array([[ 333.8335,  500.5   ],\n",
       "        [ 500.5   , 1001.    ]]), array([[ 333.8335,  500.5   ],\n",
       "        [ 500.5   , 1001.    ]]), array([[ 333.8335,  500.5   ],\n",
       "        [ 500.5   , 1001.    ]]), array([[ 333.8335,  500.5   ],\n",
       "        [ 500.5   , 1001.    ]]), array([[ 333.8335,  500.5   ],\n",
       "        [ 500.5   , 1001.    ]]), array([[ 333.8335,  500.5   ],\n",
       "        [ 500.5   , 1001.    ]]), array([[ 333.8335,  500.5   ],\n",
       "        [ 500.5   , 1001.    ]]), array([[ 333.8335,  500.5   ],\n",
       "        [ 500.5   , 1001.    ]]), array([[ 333.8335,  500.5   ],\n",
       "        [ 500.5   , 1001.    ]]), array([[ 333.8335,  500.5   ],\n",
       "        [ 500.5   , 1001.    ]]), array([[ 333.8335,  500.5   ],\n",
       "        [ 500.5   , 1001.    ]]), array([[ 333.8335,  500.5   ],\n",
       "        [ 500.5   , 1001.    ]]), array([[ 333.8335,  500.5   ],\n",
       "        [ 500.5   , 1001.    ]]), array([[ 333.8335,  500.5   ],\n",
       "        [ 500.5   , 1001.    ]]), array([[ 333.8335,  500.5   ],\n",
       "        [ 500.5   , 1001.    ]]), array([[ 333.8335,  500.5   ],\n",
       "        [ 500.5   , 1001.    ]]), array([[ 333.8335,  500.5   ],\n",
       "        [ 500.5   , 1001.    ]]), array([[ 333.8335,  500.5   ],\n",
       "        [ 500.5   , 1001.    ]]), array([[ 333.8335,  500.5   ],\n",
       "        [ 500.5   , 1001.    ]]), array([[ 333.8335,  500.5   ],\n",
       "        [ 500.5   , 1001.    ]]), array([[ 333.8335,  500.5   ],\n",
       "        [ 500.5   , 1001.    ]]), array([[ 333.8335,  500.5   ],\n",
       "        [ 500.5   , 1001.    ]]), array([[ 333.8335,  500.5   ],\n",
       "        [ 500.5   , 1001.    ]]), array([[ 333.8335,  500.5   ],\n",
       "        [ 500.5   , 1001.    ]]), array([[ 333.8335,  500.5   ],\n",
       "        [ 500.5   , 1001.    ]]), array([[ 333.8335,  500.5   ],\n",
       "        [ 500.5   , 1001.    ]]), array([[ 333.8335,  500.5   ],\n",
       "        [ 500.5   , 1001.    ]]), array([[ 333.8335,  500.5   ],\n",
       "        [ 500.5   , 1001.    ]]), array([[ 333.8335,  500.5   ],\n",
       "        [ 500.5   , 1001.    ]]), array([[ 333.8335,  500.5   ],\n",
       "        [ 500.5   , 1001.    ]]), array([[ 333.8335,  500.5   ],\n",
       "        [ 500.5   , 1001.    ]]), array([[ 333.8335,  500.5   ],\n",
       "        [ 500.5   , 1001.    ]]), array([[ 333.8335,  500.5   ],\n",
       "        [ 500.5   , 1001.    ]]), array([[ 333.8335,  500.5   ],\n",
       "        [ 500.5   , 1001.    ]]), array([[ 333.8335,  500.5   ],\n",
       "        [ 500.5   , 1001.    ]]), array([[ 333.8335,  500.5   ],\n",
       "        [ 500.5   , 1001.    ]]), array([[ 333.8335,  500.5   ],\n",
       "        [ 500.5   , 1001.    ]]), array([[ 333.8335,  500.5   ],\n",
       "        [ 500.5   , 1001.    ]]), array([[ 333.8335,  500.5   ],\n",
       "        [ 500.5   , 1001.    ]]), array([[ 333.8335,  500.5   ],\n",
       "        [ 500.5   , 1001.    ]]), array([[ 333.8335,  500.5   ],\n",
       "        [ 500.5   , 1001.    ]]), array([[ 333.8335,  500.5   ],\n",
       "        [ 500.5   , 1001.    ]]), array([[ 333.8335,  500.5   ],\n",
       "        [ 500.5   , 1001.    ]]), array([[ 333.8335,  500.5   ],\n",
       "        [ 500.5   , 1001.    ]]), array([[ 333.8335,  500.5   ],\n",
       "        [ 500.5   , 1001.    ]]), array([[ 333.8335,  500.5   ],\n",
       "        [ 500.5   , 1001.    ]]), array([[ 333.8335,  500.5   ],\n",
       "        [ 500.5   , 1001.    ]]), array([[ 333.8335,  500.5   ],\n",
       "        [ 500.5   , 1001.    ]]), array([[ 333.8335,  500.5   ],\n",
       "        [ 500.5   , 1001.    ]]), array([[ 333.8335,  500.5   ],\n",
       "        [ 500.5   , 1001.    ]]), array([[ 333.8335,  500.5   ],\n",
       "        [ 500.5   , 1001.    ]]), array([[ 333.8335,  500.5   ],\n",
       "        [ 500.5   , 1001.    ]]), array([[ 333.8335,  500.5   ],\n",
       "        [ 500.5   , 1001.    ]]), array([[ 333.8335,  500.5   ],\n",
       "        [ 500.5   , 1001.    ]]), array([[ 333.8335,  500.5   ],\n",
       "        [ 500.5   , 1001.    ]]), array([[ 333.8335,  500.5   ],\n",
       "        [ 500.5   , 1001.    ]]), array([[ 333.8335,  500.5   ],\n",
       "        [ 500.5   , 1001.    ]]), array([[ 333.8335,  500.5   ],\n",
       "        [ 500.5   , 1001.    ]]), array([[ 333.8335,  500.5   ],\n",
       "        [ 500.5   , 1001.    ]]), array([[ 333.8335,  500.5   ],\n",
       "        [ 500.5   , 1001.    ]]), array([[ 333.8335,  500.5   ],\n",
       "        [ 500.5   , 1001.    ]]), array([[ 333.8335,  500.5   ],\n",
       "        [ 500.5   , 1001.    ]]), array([[ 333.8335,  500.5   ],\n",
       "        [ 500.5   , 1001.    ]]), array([[ 333.8335,  500.5   ],\n",
       "        [ 500.5   , 1001.    ]]), array([[ 333.8335,  500.5   ],\n",
       "        [ 500.5   , 1001.    ]]), array([[ 333.8335,  500.5   ],\n",
       "        [ 500.5   , 1001.    ]]), array([[ 333.8335,  500.5   ],\n",
       "        [ 500.5   , 1001.    ]]), array([[ 333.8335,  500.5   ],\n",
       "        [ 500.5   , 1001.    ]]), array([[ 333.8335,  500.5   ],\n",
       "        [ 500.5   , 1001.    ]]), array([[ 333.8335,  500.5   ],\n",
       "        [ 500.5   , 1001.    ]]), array([[ 333.8335,  500.5   ],\n",
       "        [ 500.5   , 1001.    ]]), array([[ 333.8335,  500.5   ],\n",
       "        [ 500.5   , 1001.    ]]), array([[ 333.8335,  500.5   ],\n",
       "        [ 500.5   , 1001.    ]]), array([[ 333.8335,  500.5   ],\n",
       "        [ 500.5   , 1001.    ]]), array([[ 333.8335,  500.5   ],\n",
       "        [ 500.5   , 1001.    ]]), array([[ 333.8335,  500.5   ],\n",
       "        [ 500.5   , 1001.    ]]), array([[ 333.8335,  500.5   ],\n",
       "        [ 500.5   , 1001.    ]]), array([[ 333.8335,  500.5   ],\n",
       "        [ 500.5   , 1001.    ]]), array([[ 333.8335,  500.5   ],\n",
       "        [ 500.5   , 1001.    ]]), array([[ 333.8335,  500.5   ],\n",
       "        [ 500.5   , 1001.    ]]), array([[ 333.8335,  500.5   ],\n",
       "        [ 500.5   , 1001.    ]]), array([[ 333.8335,  500.5   ],\n",
       "        [ 500.5   , 1001.    ]]), array([[ 333.8335,  500.5   ],\n",
       "        [ 500.5   , 1001.    ]]), array([[ 333.8335,  500.5   ],\n",
       "        [ 500.5   , 1001.    ]]), array([[ 333.8335,  500.5   ],\n",
       "        [ 500.5   , 1001.    ]]), array([[ 333.8335,  500.5   ],\n",
       "        [ 500.5   , 1001.    ]]), array([[ 333.8335,  500.5   ],\n",
       "        [ 500.5   , 1001.    ]]), array([[ 333.8335,  500.5   ],\n",
       "        [ 500.5   , 1001.    ]]), array([[ 333.8335,  500.5   ],\n",
       "        [ 500.5   , 1001.    ]]), array([[ 333.8335,  500.5   ],\n",
       "        [ 500.5   , 1001.    ]]), array([[ 333.8335,  500.5   ],\n",
       "        [ 500.5   , 1001.    ]]), array([[ 333.8335,  500.5   ],\n",
       "        [ 500.5   , 1001.    ]]), array([[ 333.8335,  500.5   ],\n",
       "        [ 500.5   , 1001.    ]]), array([[ 333.8335,  500.5   ],\n",
       "        [ 500.5   , 1001.    ]]), array([[ 333.8335,  500.5   ],\n",
       "        [ 500.5   , 1001.    ]]), array([[ 333.8335,  500.5   ],\n",
       "        [ 500.5   , 1001.    ]]), array([[ 333.8335,  500.5   ],\n",
       "        [ 500.5   , 1001.    ]]), array([[ 333.8335,  500.5   ],\n",
       "        [ 500.5   , 1001.    ]]), array([[ 333.8335,  500.5   ],\n",
       "        [ 500.5   , 1001.    ]]), array([[ 333.8335,  500.5   ],\n",
       "        [ 500.5   , 1001.    ]]), array([[ 333.8335,  500.5   ],\n",
       "        [ 500.5   , 1001.    ]]), array([[ 333.8335,  500.5   ],\n",
       "        [ 500.5   , 1001.    ]]), array([[ 333.8335,  500.5   ],\n",
       "        [ 500.5   , 1001.    ]]), array([[ 333.8335,  500.5   ],\n",
       "        [ 500.5   , 1001.    ]]), array([[ 333.8335,  500.5   ],\n",
       "        [ 500.5   , 1001.    ]]), array([[ 333.8335,  500.5   ],\n",
       "        [ 500.5   , 1001.    ]]), array([[ 333.8335,  500.5   ],\n",
       "        [ 500.5   , 1001.    ]]), array([[ 333.8335,  500.5   ],\n",
       "        [ 500.5   , 1001.    ]]), array([[ 333.8335,  500.5   ],\n",
       "        [ 500.5   , 1001.    ]]), array([[ 333.8335,  500.5   ],\n",
       "        [ 500.5   , 1001.    ]]), array([[ 333.8335,  500.5   ],\n",
       "        [ 500.5   , 1001.    ]]), array([[ 333.8335,  500.5   ],\n",
       "        [ 500.5   , 1001.    ]]), array([[ 333.8335,  500.5   ],\n",
       "        [ 500.5   , 1001.    ]]), array([[ 333.8335,  500.5   ],\n",
       "        [ 500.5   , 1001.    ]]), array([[ 333.8335,  500.5   ],\n",
       "        [ 500.5   , 1001.    ]]), array([[ 333.8335,  500.5   ],\n",
       "        [ 500.5   , 1001.    ]]), array([[ 333.8335,  500.5   ],\n",
       "        [ 500.5   , 1001.    ]]), array([[ 333.8335,  500.5   ],\n",
       "        [ 500.5   , 1001.    ]]), array([[ 333.8335,  500.5   ],\n",
       "        [ 500.5   , 1001.    ]]), array([[ 333.8335,  500.5   ],\n",
       "        [ 500.5   , 1001.    ]]), array([[ 333.8335,  500.5   ],\n",
       "        [ 500.5   , 1001.    ]]), array([[ 333.8335,  500.5   ],\n",
       "        [ 500.5   , 1001.    ]]), array([[ 333.8335,  500.5   ],\n",
       "        [ 500.5   , 1001.    ]]), array([[ 333.8335,  500.5   ],\n",
       "        [ 500.5   , 1001.    ]]), array([[ 333.8335,  500.5   ],\n",
       "        [ 500.5   , 1001.    ]]), array([[ 333.8335,  500.5   ],\n",
       "        [ 500.5   , 1001.    ]]), array([[ 333.8335,  500.5   ],\n",
       "        [ 500.5   , 1001.    ]]), array([[ 333.8335,  500.5   ],\n",
       "        [ 500.5   , 1001.    ]]), array([[ 333.8335,  500.5   ],\n",
       "        [ 500.5   , 1001.    ]]), array([[ 333.8335,  500.5   ],\n",
       "        [ 500.5   , 1001.    ]]), array([[ 333.8335,  500.5   ],\n",
       "        [ 500.5   , 1001.    ]]), array([[ 333.8335,  500.5   ],\n",
       "        [ 500.5   , 1001.    ]]), array([[ 333.8335,  500.5   ],\n",
       "        [ 500.5   , 1001.    ]]), array([[ 333.8335,  500.5   ],\n",
       "        [ 500.5   , 1001.    ]]), array([[ 333.8335,  500.5   ],\n",
       "        [ 500.5   , 1001.    ]]), array([[ 333.8335,  500.5   ],\n",
       "        [ 500.5   , 1001.    ]]), array([[ 333.8335,  500.5   ],\n",
       "        [ 500.5   , 1001.    ]]), array([[ 333.8335,  500.5   ],\n",
       "        [ 500.5   , 1001.    ]]), array([[ 333.8335,  500.5   ],\n",
       "        [ 500.5   , 1001.    ]]), array([[ 333.8335,  500.5   ],\n",
       "        [ 500.5   , 1001.    ]]), array([[ 333.8335,  500.5   ],\n",
       "        [ 500.5   , 1001.    ]]), array([[ 333.8335,  500.5   ],\n",
       "        [ 500.5   , 1001.    ]]), array([[ 333.8335,  500.5   ],\n",
       "        [ 500.5   , 1001.    ]]), array([[ 333.8335,  500.5   ],\n",
       "        [ 500.5   , 1001.    ]]), array([[ 333.8335,  500.5   ],\n",
       "        [ 500.5   , 1001.    ]]), array([[ 333.8335,  500.5   ],\n",
       "        [ 500.5   , 1001.    ]]), array([[ 333.8335,  500.5   ],\n",
       "        [ 500.5   , 1001.    ]]), array([[ 333.8335,  500.5   ],\n",
       "        [ 500.5   , 1001.    ]]), array([[ 333.8335,  500.5   ],\n",
       "        [ 500.5   , 1001.    ]]), array([[ 333.8335,  500.5   ],\n",
       "        [ 500.5   , 1001.    ]]), array([[ 333.8335,  500.5   ],\n",
       "        [ 500.5   , 1001.    ]]), array([[ 333.8335,  500.5   ],\n",
       "        [ 500.5   , 1001.    ]]), array([[ 333.8335,  500.5   ],\n",
       "        [ 500.5   , 1001.    ]]), array([[ 333.8335,  500.5   ],\n",
       "        [ 500.5   , 1001.    ]]), array([[ 333.8335,  500.5   ],\n",
       "        [ 500.5   , 1001.    ]]), array([[ 333.8335,  500.5   ],\n",
       "        [ 500.5   , 1001.    ]]), array([[ 333.8335,  500.5   ],\n",
       "        [ 500.5   , 1001.    ]]), array([[ 333.8335,  500.5   ],\n",
       "        [ 500.5   , 1001.    ]]), array([[ 333.8335,  500.5   ],\n",
       "        [ 500.5   , 1001.    ]]), array([[ 333.8335,  500.5   ],\n",
       "        [ 500.5   , 1001.    ]]), array([[ 333.8335,  500.5   ],\n",
       "        [ 500.5   , 1001.    ]]), array([[ 333.8335,  500.5   ],\n",
       "        [ 500.5   , 1001.    ]]), array([[ 333.8335,  500.5   ],\n",
       "        [ 500.5   , 1001.    ]]), array([[ 333.8335,  500.5   ],\n",
       "        [ 500.5   , 1001.    ]]), array([[ 333.8335,  500.5   ],\n",
       "        [ 500.5   , 1001.    ]]), array([[ 333.8335,  500.5   ],\n",
       "        [ 500.5   , 1001.    ]]), array([[ 333.8335,  500.5   ],\n",
       "        [ 500.5   , 1001.    ]]), array([[ 333.8335,  500.5   ],\n",
       "        [ 500.5   , 1001.    ]]), array([[ 333.8335,  500.5   ],\n",
       "        [ 500.5   , 1001.    ]]), array([[ 333.8335,  500.5   ],\n",
       "        [ 500.5   , 1001.    ]]), array([[ 333.8335,  500.5   ],\n",
       "        [ 500.5   , 1001.    ]]), array([[ 333.8335,  500.5   ],\n",
       "        [ 500.5   , 1001.    ]]), array([[ 333.8335,  500.5   ],\n",
       "        [ 500.5   , 1001.    ]]), array([[ 333.8335,  500.5   ],\n",
       "        [ 500.5   , 1001.    ]]), array([[ 333.8335,  500.5   ],\n",
       "        [ 500.5   , 1001.    ]]), array([[ 333.8335,  500.5   ],\n",
       "        [ 500.5   , 1001.    ]]), array([[ 333.8335,  500.5   ],\n",
       "        [ 500.5   , 1001.    ]]), array([[ 333.8335,  500.5   ],\n",
       "        [ 500.5   , 1001.    ]]), array([[ 333.8335,  500.5   ],\n",
       "        [ 500.5   , 1001.    ]]), array([[ 333.8335,  500.5   ],\n",
       "        [ 500.5   , 1001.    ]]), array([[ 333.8335,  500.5   ],\n",
       "        [ 500.5   , 1001.    ]]), array([[ 333.8335,  500.5   ],\n",
       "        [ 500.5   , 1001.    ]]), array([[ 333.8335,  500.5   ],\n",
       "        [ 500.5   , 1001.    ]]), array([[ 333.8335,  500.5   ],\n",
       "        [ 500.5   , 1001.    ]]), array([[ 333.8335,  500.5   ],\n",
       "        [ 500.5   , 1001.    ]]), array([[ 333.8335,  500.5   ],\n",
       "        [ 500.5   , 1001.    ]]), array([[ 333.8335,  500.5   ],\n",
       "        [ 500.5   , 1001.    ]]), array([[ 333.8335,  500.5   ],\n",
       "        [ 500.5   , 1001.    ]]), array([[ 333.8335,  500.5   ],\n",
       "        [ 500.5   , 1001.    ]]), array([[ 333.8335,  500.5   ],\n",
       "        [ 500.5   , 1001.    ]]), array([[ 333.8335,  500.5   ],\n",
       "        [ 500.5   , 1001.    ]]), array([[ 333.8335,  500.5   ],\n",
       "        [ 500.5   , 1001.    ]]), array([[ 333.8335,  500.5   ],\n",
       "        [ 500.5   , 1001.    ]]), array([[ 333.8335,  500.5   ],\n",
       "        [ 500.5   , 1001.    ]]), array([[ 333.8335,  500.5   ],\n",
       "        [ 500.5   , 1001.    ]]), array([[ 333.8335,  500.5   ],\n",
       "        [ 500.5   , 1001.    ]]), array([[ 333.8335,  500.5   ],\n",
       "        [ 500.5   , 1001.    ]]), array([[ 333.8335,  500.5   ],\n",
       "        [ 500.5   , 1001.    ]]), array([[ 333.8335,  500.5   ],\n",
       "        [ 500.5   , 1001.    ]]), array([[ 333.8335,  500.5   ],\n",
       "        [ 500.5   , 1001.    ]]), array([[ 333.8335,  500.5   ],\n",
       "        [ 500.5   , 1001.    ]]), array([[ 333.8335,  500.5   ],\n",
       "        [ 500.5   , 1001.    ]]), array([[ 333.8335,  500.5   ],\n",
       "        [ 500.5   , 1001.    ]]), array([[ 333.8335,  500.5   ],\n",
       "        [ 500.5   , 1001.    ]]), array([[ 333.8335,  500.5   ],\n",
       "        [ 500.5   , 1001.    ]]), array([[ 333.8335,  500.5   ],\n",
       "        [ 500.5   , 1001.    ]]), array([[ 333.8335,  500.5   ],\n",
       "        [ 500.5   , 1001.    ]]), array([[ 333.8335,  500.5   ],\n",
       "        [ 500.5   , 1001.    ]]), array([[ 333.8335,  500.5   ],\n",
       "        [ 500.5   , 1001.    ]]), array([[ 333.8335,  500.5   ],\n",
       "        [ 500.5   , 1001.    ]]), array([[ 333.8335,  500.5   ],\n",
       "        [ 500.5   , 1001.    ]]), array([[ 333.8335,  500.5   ],\n",
       "        [ 500.5   , 1001.    ]]), array([[ 333.8335,  500.5   ],\n",
       "        [ 500.5   , 1001.    ]]), array([[ 333.8335,  500.5   ],\n",
       "        [ 500.5   , 1001.    ]]), array([[ 333.8335,  500.5   ],\n",
       "        [ 500.5   , 1001.    ]]), array([[ 333.8335,  500.5   ],\n",
       "        [ 500.5   , 1001.    ]]), array([[ 333.8335,  500.5   ],\n",
       "        [ 500.5   , 1001.    ]]), array([[ 333.8335,  500.5   ],\n",
       "        [ 500.5   , 1001.    ]]), array([[ 333.8335,  500.5   ],\n",
       "        [ 500.5   , 1001.    ]]), array([[ 333.8335,  500.5   ],\n",
       "        [ 500.5   , 1001.    ]]), array([[ 333.8335,  500.5   ],\n",
       "        [ 500.5   , 1001.    ]]), array([[ 333.8335,  500.5   ],\n",
       "        [ 500.5   , 1001.    ]]), array([[ 333.8335,  500.5   ],\n",
       "        [ 500.5   , 1001.    ]]), array([[ 333.8335,  500.5   ],\n",
       "        [ 500.5   , 1001.    ]]), array([[ 333.8335,  500.5   ],\n",
       "        [ 500.5   , 1001.    ]]), array([[ 333.8335,  500.5   ],\n",
       "        [ 500.5   , 1001.    ]]), array([[ 333.8335,  500.5   ],\n",
       "        [ 500.5   , 1001.    ]]), array([[ 333.8335,  500.5   ],\n",
       "        [ 500.5   , 1001.    ]]), array([[ 333.8335,  500.5   ],\n",
       "        [ 500.5   , 1001.    ]]), array([[ 333.8335,  500.5   ],\n",
       "        [ 500.5   , 1001.    ]]), array([[ 333.8335,  500.5   ],\n",
       "        [ 500.5   , 1001.    ]]), array([[ 333.8335,  500.5   ],\n",
       "        [ 500.5   , 1001.    ]]), array([[ 333.8335,  500.5   ],\n",
       "        [ 500.5   , 1001.    ]]), array([[ 333.8335,  500.5   ],\n",
       "        [ 500.5   , 1001.    ]]), array([[ 333.8335,  500.5   ],\n",
       "        [ 500.5   , 1001.    ]]), array([[ 333.8335,  500.5   ],\n",
       "        [ 500.5   , 1001.    ]]), array([[ 333.8335,  500.5   ],\n",
       "        [ 500.5   , 1001.    ]]), array([[ 333.8335,  500.5   ],\n",
       "        [ 500.5   , 1001.    ]]), array([[ 333.8335,  500.5   ],\n",
       "        [ 500.5   , 1001.    ]]), array([[ 333.8335,  500.5   ],\n",
       "        [ 500.5   , 1001.    ]]), array([[ 333.8335,  500.5   ],\n",
       "        [ 500.5   , 1001.    ]]), array([[ 333.8335,  500.5   ],\n",
       "        [ 500.5   , 1001.    ]]), array([[ 333.8335,  500.5   ],\n",
       "        [ 500.5   , 1001.    ]]), array([[ 333.8335,  500.5   ],\n",
       "        [ 500.5   , 1001.    ]]), array([[ 333.8335,  500.5   ],\n",
       "        [ 500.5   , 1001.    ]]), array([[ 333.8335,  500.5   ],\n",
       "        [ 500.5   , 1001.    ]]), array([[ 333.8335,  500.5   ],\n",
       "        [ 500.5   , 1001.    ]]), array([[ 333.8335,  500.5   ],\n",
       "        [ 500.5   , 1001.    ]]), array([[ 333.8335,  500.5   ],\n",
       "        [ 500.5   , 1001.    ]]), array([[ 333.8335,  500.5   ],\n",
       "        [ 500.5   , 1001.    ]]), array([[ 333.8335,  500.5   ],\n",
       "        [ 500.5   , 1001.    ]]), array([[ 333.8335,  500.5   ],\n",
       "        [ 500.5   , 1001.    ]]), array([[ 333.8335,  500.5   ],\n",
       "        [ 500.5   , 1001.    ]]), array([[ 333.8335,  500.5   ],\n",
       "        [ 500.5   , 1001.    ]]), array([[ 333.8335,  500.5   ],\n",
       "        [ 500.5   , 1001.    ]]), array([[ 333.8335,  500.5   ],\n",
       "        [ 500.5   , 1001.    ]]), array([[ 333.8335,  500.5   ],\n",
       "        [ 500.5   , 1001.    ]]), array([[ 333.8335,  500.5   ],\n",
       "        [ 500.5   , 1001.    ]]), array([[ 333.8335,  500.5   ],\n",
       "        [ 500.5   , 1001.    ]]), array([[ 333.8335,  500.5   ],\n",
       "        [ 500.5   , 1001.    ]]), array([[ 333.8335,  500.5   ],\n",
       "        [ 500.5   , 1001.    ]]), array([[ 333.8335,  500.5   ],\n",
       "        [ 500.5   , 1001.    ]]), array([[ 333.8335,  500.5   ],\n",
       "        [ 500.5   , 1001.    ]]), array([[ 333.8335,  500.5   ],\n",
       "        [ 500.5   , 1001.    ]]), array([[ 333.8335,  500.5   ],\n",
       "        [ 500.5   , 1001.    ]]), array([[ 333.8335,  500.5   ],\n",
       "        [ 500.5   , 1001.    ]]), array([[ 333.8335,  500.5   ],\n",
       "        [ 500.5   , 1001.    ]]), array([[ 333.8335,  500.5   ],\n",
       "        [ 500.5   , 1001.    ]]), array([[ 333.8335,  500.5   ],\n",
       "        [ 500.5   , 1001.    ]]), array([[ 333.8335,  500.5   ],\n",
       "        [ 500.5   , 1001.    ]]), array([[ 333.8335,  500.5   ],\n",
       "        [ 500.5   , 1001.    ]]), array([[ 333.8335,  500.5   ],\n",
       "        [ 500.5   , 1001.    ]]), array([[ 333.8335,  500.5   ],\n",
       "        [ 500.5   , 1001.    ]]), array([[ 333.8335,  500.5   ],\n",
       "        [ 500.5   , 1001.    ]]), array([[ 333.8335,  500.5   ],\n",
       "        [ 500.5   , 1001.    ]]), array([[ 333.8335,  500.5   ],\n",
       "        [ 500.5   , 1001.    ]]), array([[ 333.8335,  500.5   ],\n",
       "        [ 500.5   , 1001.    ]]), array([[ 333.8335,  500.5   ],\n",
       "        [ 500.5   , 1001.    ]]), array([[ 333.8335,  500.5   ],\n",
       "        [ 500.5   , 1001.    ]]), array([[ 333.8335,  500.5   ],\n",
       "        [ 500.5   , 1001.    ]]), array([[ 333.8335,  500.5   ],\n",
       "        [ 500.5   , 1001.    ]]), array([[ 333.8335,  500.5   ],\n",
       "        [ 500.5   , 1001.    ]]), array([[ 333.8335,  500.5   ],\n",
       "        [ 500.5   , 1001.    ]]), array([[ 333.8335,  500.5   ],\n",
       "        [ 500.5   , 1001.    ]]), array([[ 333.8335,  500.5   ],\n",
       "        [ 500.5   , 1001.    ]]), array([[ 333.8335,  500.5   ],\n",
       "        [ 500.5   , 1001.    ]]), array([[ 333.8335,  500.5   ],\n",
       "        [ 500.5   , 1001.    ]]), array([[ 333.8335,  500.5   ],\n",
       "        [ 500.5   , 1001.    ]]), array([[ 333.8335,  500.5   ],\n",
       "        [ 500.5   , 1001.    ]]), array([[ 333.8335,  500.5   ],\n",
       "        [ 500.5   , 1001.    ]]), array([[ 333.8335,  500.5   ],\n",
       "        [ 500.5   , 1001.    ]]), array([[ 333.8335,  500.5   ],\n",
       "        [ 500.5   , 1001.    ]]), array([[ 333.8335,  500.5   ],\n",
       "        [ 500.5   , 1001.    ]]), array([[ 333.8335,  500.5   ],\n",
       "        [ 500.5   , 1001.    ]]), array([[ 333.8335,  500.5   ],\n",
       "        [ 500.5   , 1001.    ]]), array([[ 333.8335,  500.5   ],\n",
       "        [ 500.5   , 1001.    ]]), array([[ 333.8335,  500.5   ],\n",
       "        [ 500.5   , 1001.    ]]), array([[ 333.8335,  500.5   ],\n",
       "        [ 500.5   , 1001.    ]]), array([[ 333.8335,  500.5   ],\n",
       "        [ 500.5   , 1001.    ]]), array([[ 333.8335,  500.5   ],\n",
       "        [ 500.5   , 1001.    ]]), array([[ 333.8335,  500.5   ],\n",
       "        [ 500.5   , 1001.    ]]), array([[ 333.8335,  500.5   ],\n",
       "        [ 500.5   , 1001.    ]]), array([[ 333.8335,  500.5   ],\n",
       "        [ 500.5   , 1001.    ]]), array([[ 333.8335,  500.5   ],\n",
       "        [ 500.5   , 1001.    ]]), array([[ 333.8335,  500.5   ],\n",
       "        [ 500.5   , 1001.    ]]), array([[ 333.8335,  500.5   ],\n",
       "        [ 500.5   , 1001.    ]]), array([[ 333.8335,  500.5   ],\n",
       "        [ 500.5   , 1001.    ]]), array([[ 333.8335,  500.5   ],\n",
       "        [ 500.5   , 1001.    ]]), array([[ 333.8335,  500.5   ],\n",
       "        [ 500.5   , 1001.    ]]), array([[ 333.8335,  500.5   ],\n",
       "        [ 500.5   , 1001.    ]]), array([[ 333.8335,  500.5   ],\n",
       "        [ 500.5   , 1001.    ]]), array([[ 333.8335,  500.5   ],\n",
       "        [ 500.5   , 1001.    ]]), array([[ 333.8335,  500.5   ],\n",
       "        [ 500.5   , 1001.    ]]), array([[ 333.8335,  500.5   ],\n",
       "        [ 500.5   , 1001.    ]]), array([[ 333.8335,  500.5   ],\n",
       "        [ 500.5   , 1001.    ]]), array([[ 333.8335,  500.5   ],\n",
       "        [ 500.5   , 1001.    ]]), array([[ 333.8335,  500.5   ],\n",
       "        [ 500.5   , 1001.    ]]), array([[ 333.8335,  500.5   ],\n",
       "        [ 500.5   , 1001.    ]]), array([[ 333.8335,  500.5   ],\n",
       "        [ 500.5   , 1001.    ]]), array([[ 333.8335,  500.5   ],\n",
       "        [ 500.5   , 1001.    ]]), array([[ 333.8335,  500.5   ],\n",
       "        [ 500.5   , 1001.    ]]), array([[ 333.8335,  500.5   ],\n",
       "        [ 500.5   , 1001.    ]]), array([[ 333.8335,  500.5   ],\n",
       "        [ 500.5   , 1001.    ]]), array([[ 333.8335,  500.5   ],\n",
       "        [ 500.5   , 1001.    ]]), array([[ 333.8335,  500.5   ],\n",
       "        [ 500.5   , 1001.    ]]), array([[ 333.8335,  500.5   ],\n",
       "        [ 500.5   , 1001.    ]]), array([[ 333.8335,  500.5   ],\n",
       "        [ 500.5   , 1001.    ]]), array([[ 333.8335,  500.5   ],\n",
       "        [ 500.5   , 1001.    ]]), array([[ 333.8335,  500.5   ],\n",
       "        [ 500.5   , 1001.    ]]), array([[ 333.8335,  500.5   ],\n",
       "        [ 500.5   , 1001.    ]]), array([[ 333.8335,  500.5   ],\n",
       "        [ 500.5   , 1001.    ]]), array([[ 333.8335,  500.5   ],\n",
       "        [ 500.5   , 1001.    ]]), array([[ 333.8335,  500.5   ],\n",
       "        [ 500.5   , 1001.    ]]), array([[ 333.8335,  500.5   ],\n",
       "        [ 500.5   , 1001.    ]]), array([[ 333.8335,  500.5   ],\n",
       "        [ 500.5   , 1001.    ]]), array([[ 333.8335,  500.5   ],\n",
       "        [ 500.5   , 1001.    ]]), array([[ 333.8335,  500.5   ],\n",
       "        [ 500.5   , 1001.    ]]), array([[ 333.8335,  500.5   ],\n",
       "        [ 500.5   , 1001.    ]]), array([[ 333.8335,  500.5   ],\n",
       "        [ 500.5   , 1001.    ]]), array([[ 333.8335,  500.5   ],\n",
       "        [ 500.5   , 1001.    ]]), array([[ 333.8335,  500.5   ],\n",
       "        [ 500.5   , 1001.    ]]), array([[ 333.8335,  500.5   ],\n",
       "        [ 500.5   , 1001.    ]]), array([[ 333.8335,  500.5   ],\n",
       "        [ 500.5   , 1001.    ]]), array([[ 333.8335,  500.5   ],\n",
       "        [ 500.5   , 1001.    ]]), array([[ 333.8335,  500.5   ],\n",
       "        [ 500.5   , 1001.    ]]), array([[ 333.8335,  500.5   ],\n",
       "        [ 500.5   , 1001.    ]]), array([[ 333.8335,  500.5   ],\n",
       "        [ 500.5   , 1001.    ]]), array([[ 333.8335,  500.5   ],\n",
       "        [ 500.5   , 1001.    ]]), array([[ 333.8335,  500.5   ],\n",
       "        [ 500.5   , 1001.    ]]), array([[ 333.8335,  500.5   ],\n",
       "        [ 500.5   , 1001.    ]]), array([[ 333.8335,  500.5   ],\n",
       "        [ 500.5   , 1001.    ]]), array([[ 333.8335,  500.5   ],\n",
       "        [ 500.5   , 1001.    ]]), array([[ 333.8335,  500.5   ],\n",
       "        [ 500.5   , 1001.    ]]), array([[ 333.8335,  500.5   ],\n",
       "        [ 500.5   , 1001.    ]]), array([[ 333.8335,  500.5   ],\n",
       "        [ 500.5   , 1001.    ]]), array([[ 333.8335,  500.5   ],\n",
       "        [ 500.5   , 1001.    ]]), array([[ 333.8335,  500.5   ],\n",
       "        [ 500.5   , 1001.    ]]), array([[ 333.8335,  500.5   ],\n",
       "        [ 500.5   , 1001.    ]]), array([[ 333.8335,  500.5   ],\n",
       "        [ 500.5   , 1001.    ]]), array([[ 333.8335,  500.5   ],\n",
       "        [ 500.5   , 1001.    ]]), array([[ 333.8335,  500.5   ],\n",
       "        [ 500.5   , 1001.    ]]), array([[ 333.8335,  500.5   ],\n",
       "        [ 500.5   , 1001.    ]]), array([[ 333.8335,  500.5   ],\n",
       "        [ 500.5   , 1001.    ]]), array([[ 333.8335,  500.5   ],\n",
       "        [ 500.5   , 1001.    ]]), array([[ 333.8335,  500.5   ],\n",
       "        [ 500.5   , 1001.    ]]), array([[ 333.8335,  500.5   ],\n",
       "        [ 500.5   , 1001.    ]]), array([[ 333.8335,  500.5   ],\n",
       "        [ 500.5   , 1001.    ]]), array([[ 333.8335,  500.5   ],\n",
       "        [ 500.5   , 1001.    ]]), array([[ 333.8335,  500.5   ],\n",
       "        [ 500.5   , 1001.    ]]), array([[ 333.8335,  500.5   ],\n",
       "        [ 500.5   , 1001.    ]]), array([[ 333.8335,  500.5   ],\n",
       "        [ 500.5   , 1001.    ]]), array([[ 333.8335,  500.5   ],\n",
       "        [ 500.5   , 1001.    ]]), array([[ 333.8335,  500.5   ],\n",
       "        [ 500.5   , 1001.    ]]), array([[ 333.8335,  500.5   ],\n",
       "        [ 500.5   , 1001.    ]]), array([[ 333.8335,  500.5   ],\n",
       "        [ 500.5   , 1001.    ]]), array([[ 333.8335,  500.5   ],\n",
       "        [ 500.5   , 1001.    ]]), array([[ 333.8335,  500.5   ],\n",
       "        [ 500.5   , 1001.    ]]), array([[ 333.8335,  500.5   ],\n",
       "        [ 500.5   , 1001.    ]]), array([[ 333.8335,  500.5   ],\n",
       "        [ 500.5   , 1001.    ]]), array([[ 333.8335,  500.5   ],\n",
       "        [ 500.5   , 1001.    ]]), array([[ 333.8335,  500.5   ],\n",
       "        [ 500.5   , 1001.    ]]), array([[ 333.8335,  500.5   ],\n",
       "        [ 500.5   , 1001.    ]]), array([[ 333.8335,  500.5   ],\n",
       "        [ 500.5   , 1001.    ]]), array([[ 333.8335,  500.5   ],\n",
       "        [ 500.5   , 1001.    ]]), array([[ 333.8335,  500.5   ],\n",
       "        [ 500.5   , 1001.    ]]), array([[ 333.8335,  500.5   ],\n",
       "        [ 500.5   , 1001.    ]]), array([[ 333.8335,  500.5   ],\n",
       "        [ 500.5   , 1001.    ]]), array([[ 333.8335,  500.5   ],\n",
       "        [ 500.5   , 1001.    ]]), array([[ 333.8335,  500.5   ],\n",
       "        [ 500.5   , 1001.    ]]), array([[ 333.8335,  500.5   ],\n",
       "        [ 500.5   , 1001.    ]]), array([[ 333.8335,  500.5   ],\n",
       "        [ 500.5   , 1001.    ]]), array([[ 333.8335,  500.5   ],\n",
       "        [ 500.5   , 1001.    ]]), array([[ 333.8335,  500.5   ],\n",
       "        [ 500.5   , 1001.    ]]), array([[ 333.8335,  500.5   ],\n",
       "        [ 500.5   , 1001.    ]]), array([[ 333.8335,  500.5   ],\n",
       "        [ 500.5   , 1001.    ]]), array([[ 333.8335,  500.5   ],\n",
       "        [ 500.5   , 1001.    ]]), array([[ 333.8335,  500.5   ],\n",
       "        [ 500.5   , 1001.    ]]), array([[ 333.8335,  500.5   ],\n",
       "        [ 500.5   , 1001.    ]]), array([[ 333.8335,  500.5   ],\n",
       "        [ 500.5   , 1001.    ]]), array([[ 333.8335,  500.5   ],\n",
       "        [ 500.5   , 1001.    ]]), array([[ 333.8335,  500.5   ],\n",
       "        [ 500.5   , 1001.    ]]), array([[ 333.8335,  500.5   ],\n",
       "        [ 500.5   , 1001.    ]]), array([[ 333.8335,  500.5   ],\n",
       "        [ 500.5   , 1001.    ]]), array([[ 333.8335,  500.5   ],\n",
       "        [ 500.5   , 1001.    ]]), array([[ 333.8335,  500.5   ],\n",
       "        [ 500.5   , 1001.    ]]), array([[ 333.8335,  500.5   ],\n",
       "        [ 500.5   , 1001.    ]]), array([[ 333.8335,  500.5   ],\n",
       "        [ 500.5   , 1001.    ]]), array([[ 333.8335,  500.5   ],\n",
       "        [ 500.5   , 1001.    ]]), array([[ 333.8335,  500.5   ],\n",
       "        [ 500.5   , 1001.    ]]), array([[ 333.8335,  500.5   ],\n",
       "        [ 500.5   , 1001.    ]]), array([[ 333.8335,  500.5   ],\n",
       "        [ 500.5   , 1001.    ]]), array([[ 333.8335,  500.5   ],\n",
       "        [ 500.5   , 1001.    ]]), array([[ 333.8335,  500.5   ],\n",
       "        [ 500.5   , 1001.    ]]), array([[ 333.8335,  500.5   ],\n",
       "        [ 500.5   , 1001.    ]]), array([[ 333.8335,  500.5   ],\n",
       "        [ 500.5   , 1001.    ]]), array([[ 333.8335,  500.5   ],\n",
       "        [ 500.5   , 1001.    ]]), array([[ 333.8335,  500.5   ],\n",
       "        [ 500.5   , 1001.    ]]), array([[ 333.8335,  500.5   ],\n",
       "        [ 500.5   , 1001.    ]]), array([[ 333.8335,  500.5   ],\n",
       "        [ 500.5   , 1001.    ]]), array([[ 333.8335,  500.5   ],\n",
       "        [ 500.5   , 1001.    ]]), array([[ 333.8335,  500.5   ],\n",
       "        [ 500.5   , 1001.    ]]), array([[ 333.8335,  500.5   ],\n",
       "        [ 500.5   , 1001.    ]]), array([[ 333.8335,  500.5   ],\n",
       "        [ 500.5   , 1001.    ]]), array([[ 333.8335,  500.5   ],\n",
       "        [ 500.5   , 1001.    ]]), array([[ 333.8335,  500.5   ],\n",
       "        [ 500.5   , 1001.    ]]), array([[ 333.8335,  500.5   ],\n",
       "        [ 500.5   , 1001.    ]]), array([[ 333.8335,  500.5   ],\n",
       "        [ 500.5   , 1001.    ]]), array([[ 333.8335,  500.5   ],\n",
       "        [ 500.5   , 1001.    ]]), array([[ 333.8335,  500.5   ],\n",
       "        [ 500.5   , 1001.    ]]), array([[ 333.8335,  500.5   ],\n",
       "        [ 500.5   , 1001.    ]]), array([[ 333.8335,  500.5   ],\n",
       "        [ 500.5   , 1001.    ]]), array([[ 333.8335,  500.5   ],\n",
       "        [ 500.5   , 1001.    ]]), array([[ 333.8335,  500.5   ],\n",
       "        [ 500.5   , 1001.    ]]), array([[ 333.8335,  500.5   ],\n",
       "        [ 500.5   , 1001.    ]]), array([[ 333.8335,  500.5   ],\n",
       "        [ 500.5   , 1001.    ]]), array([[ 333.8335,  500.5   ],\n",
       "        [ 500.5   , 1001.    ]]), array([[ 333.8335,  500.5   ],\n",
       "        [ 500.5   , 1001.    ]]), array([[ 333.8335,  500.5   ],\n",
       "        [ 500.5   , 1001.    ]]), array([[ 333.8335,  500.5   ],\n",
       "        [ 500.5   , 1001.    ]]), array([[ 333.8335,  500.5   ],\n",
       "        [ 500.5   , 1001.    ]]), array([[ 333.8335,  500.5   ],\n",
       "        [ 500.5   , 1001.    ]]), array([[ 333.8335,  500.5   ],\n",
       "        [ 500.5   , 1001.    ]]), array([[ 333.8335,  500.5   ],\n",
       "        [ 500.5   , 1001.    ]]), ...]"
      ]
     },
     "execution_count": 116,
     "metadata": {},
     "output_type": "execute_result"
    }
   ],
   "source": [
    "hessians_lin"
   ]
  },
  {
   "cell_type": "code",
   "execution_count": 105,
   "metadata": {},
   "outputs": [
    {
     "data": {
      "application/vnd.jupyter.widget-view+json": {
       "model_id": "d9a403ac88de49928eb91d573e5c5678",
       "version_major": 2,
       "version_minor": 0
      },
      "text/plain": [
       "HBox(children=(IntProgress(value=0, max=5000), HTML(value='')))"
      ]
     },
     "metadata": {},
     "output_type": "display_data"
    },
    {
     "name": "stdout",
     "output_type": "stream",
     "text": [
      "\n",
      "Var error, %:\n",
      "[3.1031 2.7107]\n",
      "Cov error, %:\n",
      "[[ 3.1031 -3.1798]\n",
      " [-3.1798  2.7107]]\n"
     ]
    },
    {
     "data": {
      "image/png": "[encoded data removed]",
      "text/plain": [
       "<Figure size 432x288 with 1 Axes>"
      ]
     },
     "metadata": {
      "needs_background": "light"
     },
     "output_type": "display_data"
    }
   ],
   "source": [
    "sigma = 1\n",
    "use_mask = False\n",
    "model_name = \"lin\"\n",
    "set_scales()\n",
    "results_lin, hessians_lin = monte_carlo_test()\n",
    "compare(results_lin, )"
   ]
  },
  {
   "cell_type": "code",
   "execution_count": 106,
   "metadata": {},
   "outputs": [
    {
     "data": {
      "image/png": "[encoded data removed]",
      "text/plain": [
       "<Figure size 720x72 with 1 Axes>"
      ]
     },
     "metadata": {
      "needs_background": "light"
     },
     "output_type": "display_data"
    },
    {
     "data": {
      "text/plain": [
       "<Figure size 432x288 with 0 Axes>"
      ]
     },
     "metadata": {},
     "output_type": "display_data"
    },
    {
     "data": {
      "image/png": "[encoded data removed]",
      "text/plain": [
       "<Figure size 720x180 with 2 Axes>"
      ]
     },
     "metadata": {
      "needs_background": "light"
     },
     "output_type": "display_data"
    },
    {
     "data": {
      "text/plain": [
       "<Figure size 432x288 with 0 Axes>"
      ]
     },
     "metadata": {},
     "output_type": "display_data"
    },
    {
     "data": {
      "image/png": "[encoded data removed]",
      "text/plain": [
       "<Figure size 720x180 with 2 Axes>"
      ]
     },
     "metadata": {
      "needs_background": "light"
     },
     "output_type": "display_data"
    }
   ],
   "source": [
    "plot_convergence(results_lin); figure(); plot_hist(results_lin); figure(); hessian_var_hist(hessians_lin, results_lin)"
   ]
  },
  {
   "cell_type": "code",
   "execution_count": null,
   "metadata": {},
   "outputs": [],
   "source": [
    "sigma = 0.1\n",
    "use_mask = False\n",
    "model_name = \"sq\"\n",
    "set_scales()\n",
    "# results_sq, hessians_sq = monte_carlo_test()\n",
    "compare(results_sq)"
   ]
  },
  {
   "cell_type": "code",
   "execution_count": null,
   "metadata": {},
   "outputs": [],
   "source": [
    "plot_convergence(results_sq); figure(); plot_hist(results_sq); figure(); hessian_var_hist(hessians_sq, results_sq)"
   ]
  },
  {
   "cell_type": "code",
   "execution_count": 119,
   "metadata": {},
   "outputs": [
    {
     "data": {
      "text/plain": [
       "(3, 10, 1)"
      ]
     },
     "execution_count": 119,
     "metadata": {},
     "output_type": "execute_result"
    }
   ],
   "source": [
    "a,b,c"
   ]
  },
  {
   "cell_type": "code",
   "execution_count": 122,
   "metadata": {},
   "outputs": [
    {
     "data": {
      "text/plain": [
       "array([[ 523.8073,   71.5444,   44.4599],\n",
       "       [  71.5444, 1476.5301, 2241.4263],\n",
       "       [  44.4599, 2241.4263, 4294.7163]])"
      ]
     },
     "execution_count": 122,
     "metadata": {},
     "output_type": "execute_result"
    }
   ],
   "source": [
    "mean(array(hessians_sin), axis=0)"
   ]
  },
  {
   "cell_type": "code",
   "execution_count": 117,
   "metadata": {},
   "outputs": [
    {
     "name": "stdout",
     "output_type": "stream",
     "text": [
      "Var error, %:\n",
      "[ 3.513  -2.1566 -1.1255]\n",
      "Cov error, %:\n",
      "[[ 3.513  -3.3757 15.1147]\n",
      " [-3.3757 -2.1566  1.719 ]\n",
      " [15.1147  1.719  -1.1255]]\n"
     ]
    },
    {
     "data": {
      "image/png": "[encoded data removed]",
      "text/plain": [
       "<Figure size 432x288 with 1 Axes>"
      ]
     },
     "metadata": {
      "needs_background": "light"
     },
     "output_type": "display_data"
    }
   ],
   "source": [
    "sigma = 0.01\n",
    "use_mask = False\n",
    "model_name = \"sin\"\n",
    "set_scales()\n",
    "# results_sin, hessians_sin = monte_carlo_test()\n",
    "compare(results_sin)"
   ]
  },
  {
   "cell_type": "code",
   "execution_count": null,
   "metadata": {},
   "outputs": [],
   "source": [
    "plot_convergence(results_sin)\n",
    "figure(); plot_hist(results_sin)\n",
    "figure(); hessian_var_hist(hessians_sin, results_sin)"
   ]
  },
  {
   "cell_type": "code",
   "execution_count": 160,
   "metadata": {},
   "outputs": [
    {
     "data": {
      "text/plain": [
       "array([[  50.4999,   -7.4994,  100.4929],\n",
       "       [  -7.4994,    2.2498,  -29.9833],\n",
       "       [ 100.4929,  -29.9833, 1001.    ]])"
      ]
     },
     "execution_count": 160,
     "metadata": {},
     "output_type": "execute_result"
    }
   ],
   "source": [
    "array(hessians_exp).mean(axis=0)"
   ]
  },
  {
   "cell_type": "code",
   "execution_count": 159,
   "metadata": {},
   "outputs": [
    {
     "data": {
      "application/vnd.jupyter.widget-view+json": {
       "model_id": "516a115e9175417eab46ca65f60750b1",
       "version_major": 2,
       "version_minor": 0
      },
      "text/plain": [
       "HBox(children=(IntProgress(value=0, max=2000), HTML(value='')))"
      ]
     },
     "metadata": {},
     "output_type": "display_data"
    },
    {
     "name": "stdout",
     "output_type": "stream",
     "text": [
      "\n",
      "Var error, %:\n",
      "[-3.6141 -8.1347 -2.1776]\n",
      "Cov error, %:\n",
      "[[ -3.6141  -9.4058 -81.3229]\n",
      " [ -9.4058  -8.1347  -7.1333]\n",
      " [-81.3229  -7.1333  -2.1776]]\n"
     ]
    },
    {
     "data": {
      "image/png": "[encoded data removed]",
      "text/plain": [
       "<Figure size 432x288 with 1 Axes>"
      ]
     },
     "metadata": {
      "needs_background": "light"
     },
     "output_type": "display_data"
    }
   ],
   "source": [
    "MC_ITER = 2000\n",
    "sigma = .01\n",
    "use_mask = False\n",
    "model_name = \"exp\"\n",
    "set_scales()\n",
    "results_exp, hessians_exp = monte_carlo_test()\n",
    "compare(results_exp)"
   ]
  },
  {
   "cell_type": "code",
   "execution_count": 161,
   "metadata": {},
   "outputs": [
    {
     "data": {
      "image/png": "[encoded data removed]",
      "text/plain": [
       "<Figure size 720x72 with 1 Axes>"
      ]
     },
     "metadata": {
      "needs_background": "light"
     },
     "output_type": "display_data"
    },
    {
     "data": {
      "text/plain": [
       "<Figure size 432x288 with 0 Axes>"
      ]
     },
     "metadata": {},
     "output_type": "display_data"
    },
    {
     "data": {
      "image/png": "[encoded data removed]",
      "text/plain": [
       "<Figure size 1080x180 with 3 Axes>"
      ]
     },
     "metadata": {
      "needs_background": "light"
     },
     "output_type": "display_data"
    },
    {
     "data": {
      "text/plain": [
       "<Figure size 432x288 with 0 Axes>"
      ]
     },
     "metadata": {},
     "output_type": "display_data"
    },
    {
     "data": {
      "image/png": "[encoded data removed]",
      "text/plain": [
       "<Figure size 1080x180 with 3 Axes>"
      ]
     },
     "metadata": {
      "needs_background": "light"
     },
     "output_type": "display_data"
    }
   ],
   "source": [
    "plot_convergence(results_exp)\n",
    "figure(); plot_hist(results_exp)\n",
    "figure(); hessian_var_hist(hessians_exp, results_exp)"
   ]
  },
  {
   "cell_type": "code",
   "execution_count": 240,
   "metadata": {},
   "outputs": [
    {
     "data": {
      "text/plain": [
       "2.039773357811329e-05"
      ]
     },
     "execution_count": 240,
     "metadata": {},
     "output_type": "execute_result"
    }
   ],
   "source": [
    "std(losses)"
   ]
  },
  {
   "cell_type": "code",
   "execution_count": 239,
   "metadata": {},
   "outputs": [
    {
     "data": {
      "text/plain": [
       "0.00010015083252752567"
      ]
     },
     "execution_count": 239,
     "metadata": {},
     "output_type": "execute_result"
    },
    {
     "data": {
      "image/png": "[encoded data removed]",
      "text/plain": [
       "<Figure size 432x288 with 1 Axes>"
      ]
     },
     "metadata": {
      "needs_background": "light"
     },
     "output_type": "display_data"
    }
   ],
   "source": [
    "plt.hist(losses, 50)\n",
    "mean(losses)"
   ]
  },
  {
   "cell_type": "code",
   "execution_count": 271,
   "metadata": {},
   "outputs": [
    {
     "name": "stdout",
     "output_type": "stream",
     "text": [
      "[6.0001 0.053  0.6999 0.4    7.102  0.4479] \n",
      " [[ 1.8158e+02 -1.6587e+00 -4.8672e-01 -4.8920e+00  1.8307e+00  3.7072e+00]\n",
      " [-1.6587e+00  8.6404e+00  3.8807e-01 -3.6792e-01 -5.7880e-02  3.7473e-01]\n",
      " [-4.8672e-01  3.8807e-01  2.1530e+00  2.5373e+00  8.2074e-03  3.5992e-02]\n",
      " [-4.8920e+00 -3.6792e-01  2.5373e+00  1.0722e+01 -1.1115e-01 -2.3897e-01]\n",
      " [ 1.8307e+00 -5.7880e-02  8.2074e-03 -1.1115e-01  7.4984e-02  1.4293e-01]\n",
      " [ 3.7072e+00  3.7473e-01  3.5992e-02 -2.3897e-01  1.4293e-01  3.0030e-01]] \n",
      " [[ 3.4398e-10  9.0327e-09 -1.3109e-10  8.0699e-11  3.0314e-07 -1.5971e-07]\n",
      " [ 9.0327e-09  3.0246e-07 -4.9922e-09  2.3851e-09  1.0173e-05 -5.3284e-06]\n",
      " [-1.3109e-10 -4.9922e-09  6.7074e-09 -1.6524e-09 -1.5900e-07  8.1402e-08]\n",
      " [ 8.0699e-11  2.3851e-09 -1.6524e-09  1.3638e-09  7.7567e-08 -3.9607e-08]\n",
      " [ 3.0314e-07  1.0173e-05 -1.5900e-07  7.7567e-08  3.4365e-04 -1.7992e-04]\n",
      " [-1.5971e-07 -5.3284e-06  8.1402e-08 -3.9607e-08 -1.7992e-04  9.4242e-05]] \n",
      " [[ 2.5818e-08  7.1733e-07 -3.6428e-09 -4.2841e-08  2.5395e-05 -1.2866e-05]\n",
      " [ 7.1733e-07  2.2376e-05 -3.7344e-07 -8.4399e-07  7.3712e-04 -3.7296e-04]\n",
      " [-3.6428e-09 -3.7344e-07  6.0594e-08 -3.8622e-08 -5.7857e-06  2.8549e-06]\n",
      " [-4.2841e-08 -8.4399e-07 -3.8622e-08  1.4480e-07 -3.7059e-05  1.8685e-05]\n",
      " [ 2.5395e-05  7.3712e-04 -5.7857e-06 -3.7059e-05  2.5742e-02 -1.3043e-02]\n",
      " [-1.2866e-05 -3.7296e-04  2.8549e-06  1.8685e-05 -1.3043e-02  6.6147e-03]]\n",
      "Var error, %:\n",
      "[98.6677 98.6483 88.9306 99.0582 98.665  98.5753]\n",
      "Cov error, %:\n",
      "[[  98.6677   98.7408  -96.4014 -100.1884   98.8063  -98.7586]\n",
      " [  98.7408   98.6483  -98.6632 -100.2826   98.6198  -98.5713]\n",
      " [ -96.4014  -98.6632   88.9306  -95.7215  -97.2519   97.1487]\n",
      " [-100.1884 -100.2826  -95.7215   99.0582 -100.2093  100.212 ]\n",
      " [  98.8063   98.6198  -97.2519 -100.2093   98.665   -98.6206]\n",
      " [ -98.7586  -98.5713   97.1487  100.212   -98.6206   98.5753]]\n"
     ]
    },
    {
     "data": {
      "image/png": "[encoded data removed]",
      "text/plain": [
       "<Figure size 432x288 with 1 Axes>"
      ]
     },
     "metadata": {
      "needs_background": "light"
     },
     "output_type": "display_data"
    }
   ],
   "source": [
    "MC_ITER = 10000\n",
    "NOP = 200\n",
    "sigma = 0.0001\n",
    "use_mask = True\n",
    "model_name = \"tr\"\n",
    "set_scales()\n",
    "# results_tr, hessians_tr, losses = monte_carlo_test()\n",
    "compare(results_tr, True)"
   ]
  },
  {
   "cell_type": "code",
   "execution_count": null,
   "metadata": {},
   "outputs": [],
   "source": [
    "rc(\"font\", size=11)"
   ]
  },
  {
   "cell_type": "code",
   "execution_count": 268,
   "metadata": {},
   "outputs": [
    {
     "data": {
      "image/png": "[encoded data removed]",
      "text/plain": [
       "<Figure size 720x72 with 1 Axes>"
      ]
     },
     "metadata": {
      "needs_background": "light"
     },
     "output_type": "display_data"
    },
    {
     "data": {
      "text/plain": [
       "<Figure size 432x288 with 0 Axes>"
      ]
     },
     "metadata": {},
     "output_type": "display_data"
    },
    {
     "data": {
      "image/png": "[encoded data removed]",
      "text/plain": [
       "<Figure size 1080x360 with 6 Axes>"
      ]
     },
     "metadata": {
      "needs_background": "light"
     },
     "output_type": "display_data"
    },
    {
     "data": {
      "text/plain": [
       "<Figure size 432x288 with 0 Axes>"
      ]
     },
     "metadata": {},
     "output_type": "display_data"
    },
    {
     "data": {
      "image/png": "[encoded data removed]",
      "text/plain": [
       "<Figure size 1080x360 with 6 Axes>"
      ]
     },
     "metadata": {
      "needs_background": "light"
     },
     "output_type": "display_data"
    }
   ],
   "source": [
    "plot_convergence(results_tr)\n",
    "figure(); plot_hist(results_tr); #plt.savefig(\"../Pictures/MC-test-tr.pdf\")\n",
    "figure(); hessian_var_hist(hessians_tr, results_tr, -analytic);# plt.savefig(\"../Pictures/MC-test-tr-H.pdf\")\n",
    "# plt.yscale(\"log\")\n",
    "# plt.xlim(-0.002, 0.002)"
   ]
  },
  {
   "cell_type": "code",
   "execution_count": 164,
   "metadata": {},
   "outputs": [],
   "source": [
    "set_printoptions(linewidth=150)"
   ]
  },
  {
   "cell_type": "code",
   "execution_count": 251,
   "metadata": {},
   "outputs": [
    {
     "data": {
      "text/plain": [
       "array([[ 1.8106e+02, -1.1784e+00, -4.8933e-01, -4.8389e+00,  2.0653e+00,  4.3233e+00],\n",
       "       [-1.1784e+00,  9.6187e+00,  4.0813e-01, -3.9181e-01, -4.9120e-02,  4.7118e-01],\n",
       "       [-4.8933e-01,  4.0813e-01,  2.0370e+00,  2.3904e+00,  7.1875e-03,  3.6739e-02],\n",
       "       [-4.8389e+00, -3.9181e-01,  2.3904e+00,  1.0093e+01, -1.2728e-01, -2.8118e-01],\n",
       "       [ 2.0653e+00, -4.9120e-02,  7.1875e-03, -1.2728e-01,  9.2825e-02,  1.8452e-01],\n",
       "       [ 4.3233e+00,  4.7118e-01,  3.6739e-02, -2.8118e-01,  1.8452e-01,  4.0101e-01]])"
      ]
     },
     "execution_count": 251,
     "metadata": {},
     "output_type": "execute_result"
    }
   ],
   "source": [
    "(mean(hessians_tr, axis=0))"
   ]
  },
  {
   "cell_type": "code",
   "execution_count": 252,
   "metadata": {},
   "outputs": [],
   "source": [
    "analytic = array([[-1.8106e+02,  1.1768e+00,  4.8924e-01,  4.8388e+00, -2.0657e+00, -4.3246e+00],\n",
    "       [ 1.1768e+00, -9.6204e+00, -4.0825e-01,  3.9220e-01,  4.9027e-02, -4.7149e-01],\n",
    "       [ 4.8924e-01, -4.0825e-01, -2.0366e+00, -2.3898e+00, -7.1958e-03, -3.6772e-02],\n",
    "       [ 4.8388e+00,  3.9220e-01, -2.3898e+00, -1.0092e+01,  1.2731e-01,  2.8128e-01],\n",
    "       [-2.0657e+00,  4.9027e-02, -7.1958e-03,  1.2731e-01, -9.2824e-02, -1.8455e-01],\n",
    "       [-4.3246e+00, -4.7149e-01, -3.6772e-02,  2.8128e-01, -1.8455e-01, -4.0115e-01]])"
   ]
  },
  {
   "cell_type": "code",
   "execution_count": 256,
   "metadata": {},
   "outputs": [
    {
     "data": {
      "text/plain": [
       "array([[-0.0026, -0.1342, -0.0177, -0.0015,  0.0212,  0.0293],\n",
       "       [-0.1342,  0.0177,  0.03  ,  0.1007, -0.1898,  0.0663],\n",
       "       [-0.0177,  0.03  , -0.0203, -0.0234,  0.1156,  0.0893],\n",
       "       [-0.0015,  0.1007, -0.0234, -0.0141,  0.0209,  0.0369],\n",
       "       [ 0.0212, -0.1898,  0.1156,  0.0209, -0.0014,  0.018 ],\n",
       "       [ 0.0293,  0.0663,  0.0893,  0.0369,  0.018 ,  0.035 ]])"
      ]
     },
     "execution_count": 256,
     "metadata": {},
     "output_type": "execute_result"
    }
   ],
   "source": [
    "((mean(hessians_tr, axis=0)) + analytic)/analytic*100"
   ]
  },
  {
   "cell_type": "code",
   "execution_count": null,
   "metadata": {},
   "outputs": [],
   "source": []
  }
 ],
 "metadata": {
  "kernelspec": {
   "display_name": "Python 3",
   "language": "python",
   "name": "python3"
  },
  "language_info": {
   "codemirror_mode": {
    "name": "ipython",
    "version": 3
   },
   "file_extension": ".py",
   "mimetype": "text/x-python",
   "name": "python",
   "nbconvert_exporter": "python",
   "pygments_lexer": "ipython3",
   "version": "3.6.6"
  }
 },
 "nbformat": 4,
 "nbformat_minor": 2
}
