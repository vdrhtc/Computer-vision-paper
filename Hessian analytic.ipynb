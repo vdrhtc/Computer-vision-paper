{
 "cells": [
  {
   "cell_type": "code",
   "execution_count": 100,
   "metadata": {},
   "outputs": [],
   "source": [
    "%matplotlib inline"
   ]
  },
  {
   "cell_type": "code",
   "execution_count": 101,
   "metadata": {},
   "outputs": [],
   "source": [
    "from matplotlib import pyplot as plt"
   ]
  },
  {
   "cell_type": "code",
   "execution_count": 206,
   "metadata": {},
   "outputs": [],
   "source": [
    "from sympy import *\n",
    "from sympy.matrices.dense import hessian\n",
    "from numpy import linspace, ones, ones_like, where, logical_and, zeros"
   ]
  },
  {
   "cell_type": "code",
   "execution_count": 6,
   "metadata": {},
   "outputs": [],
   "source": [
    "init_printing()"
   ]
  },
  {
   "cell_type": "code",
   "execution_count": 38,
   "metadata": {},
   "outputs": [],
   "source": [
    "var(\" a b c X sigma\")\n",
    "params = a,b,c"
   ]
  },
  {
   "cell_type": "code",
   "execution_count": 77,
   "metadata": {},
   "outputs": [],
   "source": [
    "def expectation_of_hessian_of_log_likelihood_sum_ith_element(mu):\n",
    "    theta = list(mu.atoms())\n",
    "    try:\n",
    "        theta.remove(X)\n",
    "    except:\n",
    "        theta.remove(I)\n",
    "    theta = [p for p in params if p in theta]\n",
    "    print(theta)\n",
    "    return -1/2/sigma * (hessian(mu**2, theta) - 2*mu*hessian(mu, theta))"
   ]
  },
  {
   "cell_type": "code",
   "execution_count": 40,
   "metadata": {},
   "outputs": [
    {
     "data": {
      "image/png": "[encoded data removed]",
      "text/latex": [
       "$$\\left[\\begin{matrix}- \\frac{1.0 X^{2}}{\\sigma} & - \\frac{1.0 X}{\\sigma}\\\\- \\frac{1.0 X}{\\sigma} & - \\frac{1.0}{\\sigma}\\end{matrix}\\right]$$"
      ],
      "text/plain": [
       "⎡      2          ⎤\n",
       "⎢-1.0⋅X    -1.0⋅X ⎥\n",
       "⎢────────  ───────⎥\n",
       "⎢   σ         σ   ⎥\n",
       "⎢                 ⎥\n",
       "⎢-1.0⋅X     -1.0  ⎥\n",
       "⎢───────    ───── ⎥\n",
       "⎣   σ         σ   ⎦"
      ]
     },
     "execution_count": 40,
     "metadata": {},
     "output_type": "execute_result"
    }
   ],
   "source": [
    "lin_expect = expectation_of_hessian_of_log_likelihood_sum_ith_element(a*X+b)\n",
    "lin_expect"
   ]
  },
  {
   "cell_type": "code",
   "execution_count": 41,
   "metadata": {},
   "outputs": [
    {
     "data": {
      "text/plain": [
       "array([[ -333.8335,  -500.5   ],\n",
       "       [ -500.5   , -1001.    ]])"
      ]
     },
     "execution_count": 41,
     "metadata": {},
     "output_type": "execute_result"
    }
   ],
   "source": [
    "lin_expect_func = lambdify((a, b, sigma, X), lin_expect)\n",
    "lin_expect_func(1,2, ones(1001), linspace(0, 1, 1001)).sum(axis=-1)"
   ]
  },
  {
   "cell_type": "code",
   "execution_count": 42,
   "metadata": {},
   "outputs": [
    {
     "data": {
      "image/png": "[encoded data removed]",
      "text/latex": [
       "$$\\left[\\begin{matrix}- \\frac{1.0}{\\sigma} \\sin^{2}{\\left (X b + c \\right )} & - \\frac{1.0 X}{\\sigma} a \\sin{\\left (X b + c \\right )} \\cos{\\left (X b + c \\right )} & - \\frac{1.0 a}{\\sigma} \\sin{\\left (X b + c \\right )} \\cos{\\left (X b + c \\right )}\\\\- \\frac{1.0 X}{\\sigma} a \\sin{\\left (X b + c \\right )} \\cos{\\left (X b + c \\right )} & - \\frac{1.0 X^{2}}{\\sigma} a^{2} \\cos^{2}{\\left (X b + c \\right )} & - \\frac{1.0 X}{\\sigma} a^{2} \\cos^{2}{\\left (X b + c \\right )}\\\\- \\frac{1.0 a}{\\sigma} \\sin{\\left (X b + c \\right )} \\cos{\\left (X b + c \\right )} & - \\frac{1.0 X}{\\sigma} a^{2} \\cos^{2}{\\left (X b + c \\right )} & - \\frac{1.0 a^{2}}{\\sigma} \\cos^{2}{\\left (X b + c \\right )}\\end{matrix}\\right]$$"
      ],
      "text/plain": [
       "⎡                2                                                            \n",
       "⎢        -1.0⋅sin (X⋅b + c)           -1.0⋅X⋅a⋅sin(X⋅b + c)⋅cos(X⋅b + c)   -1.\n",
       "⎢        ───────────────────          ───────────────────────────────────  ───\n",
       "⎢                 σ                                    σ                      \n",
       "⎢                                                                             \n",
       "⎢                                                2  2    2                    \n",
       "⎢-1.0⋅X⋅a⋅sin(X⋅b + c)⋅cos(X⋅b + c)        -1.0⋅X ⋅a ⋅cos (X⋅b + c)           \n",
       "⎢───────────────────────────────────       ─────────────────────────          \n",
       "⎢                 σ                                    σ                      \n",
       "⎢                                                                             \n",
       "⎢                                                  2    2                     \n",
       "⎢ -1.0⋅a⋅sin(X⋅b + c)⋅cos(X⋅b + c)         -1.0⋅X⋅a ⋅cos (X⋅b + c)            \n",
       "⎢ ─────────────────────────────────        ────────────────────────           \n",
       "⎣                 σ                                   σ                       \n",
       "\n",
       "                              ⎤\n",
       "0⋅a⋅sin(X⋅b + c)⋅cos(X⋅b + c) ⎥\n",
       "──────────────────────────────⎥\n",
       "             σ                ⎥\n",
       "                              ⎥\n",
       "         2    2               ⎥\n",
       " -1.0⋅X⋅a ⋅cos (X⋅b + c)      ⎥\n",
       " ────────────────────────     ⎥\n",
       "            σ                 ⎥\n",
       "                              ⎥\n",
       "        2    2                ⎥\n",
       "  -1.0⋅a ⋅cos (X⋅b + c)       ⎥\n",
       "  ──────────────────────      ⎥\n",
       "            σ                 ⎦"
      ]
     },
     "execution_count": 42,
     "metadata": {},
     "output_type": "execute_result"
    }
   ],
   "source": [
    "sin_expect = expectation_of_hessian_of_log_likelihood_sum_ith_element(a*sin(b*X+c))\n",
    "sin_expect"
   ]
  },
  {
   "cell_type": "code",
   "execution_count": 45,
   "metadata": {},
   "outputs": [
    {
     "data": {
      "text/plain": [
       "array([[ -523.80698019,   -71.54475105,   -44.45992428],\n",
       "       [  -71.54475105, -1476.54240868, -2241.44048362],\n",
       "       [  -44.45992428, -2241.44048362, -4294.73717829]])"
      ]
     },
     "execution_count": 45,
     "metadata": {},
     "output_type": "execute_result"
    }
   ],
   "source": [
    "sin_expect_func = lambdify((a, b, c, sigma, X), sin_expect)\n",
    "sin_expect_func(3,10,1, ones(1001), linspace(0, 1, 1001)).sum(axis=-1)"
   ]
  },
  {
   "cell_type": "code",
   "execution_count": 53,
   "metadata": {},
   "outputs": [
    {
     "name": "stdout",
     "output_type": "stream",
     "text": [
      "[a, b, c]\n"
     ]
    },
    {
     "data": {
      "image/png": "[encoded data removed]",
      "text/latex": [
       "$$\\left[\\begin{matrix}- \\frac{1.0}{\\sigma} e^{- 2 X b} & - \\frac{0.5}{\\sigma} \\left(- 2 X a e^{- 2 X b} - 2 X \\left(a e^{- X b} + c\\right) e^{- X b} + X \\left(2 a e^{- X b} + 2 c\\right) e^{- X b}\\right) & - \\frac{1.0}{\\sigma} e^{- X b}\\\\- \\frac{0.5}{\\sigma} \\left(- 2 X a e^{- 2 X b} - 2 X \\left(a e^{- X b} + c\\right) e^{- X b} + X \\left(2 a e^{- X b} + 2 c\\right) e^{- X b}\\right) & - \\frac{0.5}{\\sigma} \\left(2 X^{2} a^{2} e^{- 2 X b} + 2 X^{2} a \\left(a e^{- X b} + c\\right) e^{- X b} - X^{2} a \\left(2 a e^{- X b} + 2 c\\right) e^{- X b}\\right) & \\frac{1.0 X}{\\sigma} a e^{- X b}\\\\- \\frac{1.0}{\\sigma} e^{- X b} & \\frac{1.0 X}{\\sigma} a e^{- X b} & - \\frac{1.0}{\\sigma}\\end{matrix}\\right]$$"
      ],
      "text/plain": [
       "⎡                                      -2⋅X⋅b                                 \n",
       "⎢                                -1.0⋅ℯ                                       \n",
       "⎢                                ─────────────                                \n",
       "⎢                                      σ                                      \n",
       "⎢                                                                             \n",
       "⎢     ⎛         -2⋅X⋅b       ⎛   -X⋅b    ⎞  -X⋅b     ⎛     -X⋅b      ⎞  -X⋅b⎞ \n",
       "⎢-0.5⋅⎝- 2⋅X⋅a⋅ℯ       - 2⋅X⋅⎝a⋅ℯ     + c⎠⋅ℯ     + X⋅⎝2⋅a⋅ℯ     + 2⋅c⎠⋅ℯ    ⎠ \n",
       "⎢─────────────────────────────────────────────────────────────────────────────\n",
       "⎢                                      σ                                      \n",
       "⎢                                                                             \n",
       "⎢                                       -X⋅b                                  \n",
       "⎢                                 -1.0⋅ℯ                                      \n",
       "⎢                                 ───────────                                 \n",
       "⎣                                      σ                                      \n",
       "\n",
       "          ⎛         -2⋅X⋅b       ⎛   -X⋅b    ⎞  -X⋅b     ⎛     -X⋅b      ⎞  -X\n",
       "     -0.5⋅⎝- 2⋅X⋅a⋅ℯ       - 2⋅X⋅⎝a⋅ℯ     + c⎠⋅ℯ     + X⋅⎝2⋅a⋅ℯ     + 2⋅c⎠⋅ℯ  \n",
       "     ─────────────────────────────────────────────────────────────────────────\n",
       "                                           σ                                  \n",
       "                                                                              \n",
       "       ⎛   2  2  -2⋅X⋅b      2   ⎛   -X⋅b    ⎞  -X⋅b    2   ⎛     -X⋅b      ⎞ \n",
       "  -0.5⋅⎝2⋅X ⋅a ⋅ℯ       + 2⋅X ⋅a⋅⎝a⋅ℯ     + c⎠⋅ℯ     - X ⋅a⋅⎝2⋅a⋅ℯ     + 2⋅c⎠⋅\n",
       "  ────────────────────────────────────────────────────────────────────────────\n",
       "                                           σ                                  \n",
       "                                                                              \n",
       "                                              -X⋅b                            \n",
       "                                     1.0⋅X⋅a⋅ℯ                                \n",
       "                                     ─────────────                            \n",
       "                                           σ                                  \n",
       "\n",
       "⋅b⎞             -X⋅b  ⎤\n",
       "  ⎠       -1.0⋅ℯ      ⎥\n",
       "────      ─────────── ⎥\n",
       "               σ      ⎥\n",
       "                      ⎥\n",
       " -X⋅b⎞            -X⋅b⎥\n",
       "ℯ    ⎠   1.0⋅X⋅a⋅ℯ    ⎥\n",
       "───────  ─────────────⎥\n",
       "               σ      ⎥\n",
       "                      ⎥\n",
       "                      ⎥\n",
       "             -1.0     ⎥\n",
       "             ─────    ⎥\n",
       "               σ      ⎦"
      ]
     },
     "execution_count": 53,
     "metadata": {},
     "output_type": "execute_result"
    }
   ],
   "source": [
    "expect = expectation_of_hessian_of_log_likelihood_sum_ith_element(a*exp(-b*X)+c)\n",
    "expect"
   ]
  },
  {
   "cell_type": "code",
   "execution_count": 54,
   "metadata": {},
   "outputs": [
    {
     "data": {
      "text/plain": [
       "array([[  -50.50166655,     7.49974968,  -100.496316  ],\n",
       "       [    7.49974968,    -2.24999898,    29.98483602],\n",
       "       [ -100.496316  ,    29.98483602, -1001.        ]])"
      ]
     },
     "execution_count": 54,
     "metadata": {},
     "output_type": "execute_result"
    }
   ],
   "source": [
    "expect_func = lambdify((a, b, c, sigma, X), expect)\n",
    "expect_func(3,10,1, ones(1001), linspace(0, 1, 1001)).sum(axis=-1)"
   ]
  },
  {
   "cell_type": "markdown",
   "metadata": {},
   "source": [
    "## Трансмон"
   ]
  },
  {
   "cell_type": "code",
   "execution_count": 212,
   "metadata": {},
   "outputs": [],
   "source": [
    "var(\"I f_c g Pi I_ss f_qmax d\")\n",
    "params = (f_c, g, Pi, I_ss, f_qmax, d)\n",
    "Is = linspace(0, 1, 200)\n",
    "sigmas = ones_like(Is)\n",
    "freq_window = 0.02"
   ]
  },
  {
   "cell_type": "code",
   "execution_count": 213,
   "metadata": {},
   "outputs": [],
   "source": [
    "def transmon_spectrum():\n",
    "    phi = (I-I_ss)/Pi\n",
    "    return f_qmax*sqrt(sqrt(cos(pi*phi)**2)*sqrt(1+d**2*tan(pi*phi)**2))\n",
    "\n",
    "def f_plus():\n",
    "    f_q = transmon_spectrum()\n",
    "    E0 = (f_c - f_q) / 2\n",
    "    E2 = f_c + 1 / 2 * sqrt(4 * g ** 2 + (f_q - f_c) ** 2)\n",
    "    return E2 - E0\n",
    "\n",
    "def f_minus():\n",
    "    f_q = transmon_spectrum()\n",
    "    E0 = (f_c - f_q) / 2\n",
    "    E1 = f_c - 1 / 2 * sqrt(4 * g ** 2 + (f_q - f_c) ** 2)\n",
    "    return E1 - E0"
   ]
  },
  {
   "cell_type": "code",
   "execution_count": 214,
   "metadata": {},
   "outputs": [
    {
     "data": {
      "image/png": "[encoded data removed]",
      "text/latex": [
       "$$\\frac{f_{c}}{2} + \\frac{f_{qmax}}{2} \\sqrt{\\sqrt{d^{2} \\tan^{2}{\\left (\\frac{\\pi}{\\Pi} \\left(I - I_{ss}\\right) \\right )} + 1} \\sqrt{\\cos^{2}{\\left (\\frac{\\pi}{\\Pi} \\left(I - I_{ss}\\right) \\right )}}} + 0.5 \\sqrt{4 g^{2} + \\left(- f_{c} + f_{qmax} \\sqrt{\\sqrt{d^{2} \\tan^{2}{\\left (\\frac{\\pi}{\\Pi} \\left(I - I_{ss}\\right) \\right )} + 1} \\sqrt{\\cos^{2}{\\left (\\frac{\\pi}{\\Pi} \\left(I - I_{ss}\\right) \\right )}}}\\right)^{2}}$$"
      ],
      "text/plain": [
       "                  ________________________________________________________    \n",
       "                 ╱     __________________________     ___________________     \n",
       "                ╱     ╱  2    2⎛π⋅(I - Iₛₛ)⎞         ╱    2⎛π⋅(I - Iₛₛ)⎞      \n",
       "      f_qmax⋅  ╱     ╱  d ⋅tan ⎜───────────⎟ + 1 ⋅  ╱  cos ⎜───────────⎟      \n",
       "f_c          ╲╱    ╲╱          ⎝     Π     ⎠      ╲╱       ⎝     Π     ⎠      \n",
       "─── + ──────────────────────────────────────────────────────────────────── + 0\n",
       " 2                                     2                                      \n",
       "\n",
       "          ____________________________________________________________________\n",
       "         ╱                                                                    \n",
       "        ╱         ⎛                   ________________________________________\n",
       "       ╱          ⎜                  ╱     __________________________     ____\n",
       "      ╱       2   ⎜                 ╱     ╱  2    2⎛π⋅(I - Iₛₛ)⎞         ╱    \n",
       ".5⋅  ╱     4⋅g  + ⎜-f_c + f_qmax⋅  ╱     ╱  d ⋅tan ⎜───────────⎟ + 1 ⋅  ╱  cos\n",
       "   ╲╱             ⎝              ╲╱    ╲╱          ⎝     Π     ⎠      ╲╱      \n",
       "\n",
       "___________________\n",
       "                 2 \n",
       "________________⎞  \n",
       "_______________ ⎟  \n",
       "2⎛π⋅(I - Iₛₛ)⎞  ⎟  \n",
       " ⎜───────────⎟  ⎟  \n",
       " ⎝     Π     ⎠  ⎠  "
      ]
     },
     "execution_count": 214,
     "metadata": {},
     "output_type": "execute_result"
    }
   ],
   "source": [
    "f_plus()"
   ]
  },
  {
   "cell_type": "code",
   "execution_count": 215,
   "metadata": {},
   "outputs": [
    {
     "name": "stdout",
     "output_type": "stream",
     "text": [
      "[f_c, g, Pi, I_ss, f_qmax, d]\n"
     ]
    }
   ],
   "source": [
    "expect = expectation_of_hessian_of_log_likelihood_sum_ith_element(f_plus())"
   ]
  },
  {
   "cell_type": "code",
   "execution_count": 216,
   "metadata": {},
   "outputs": [],
   "source": [
    "expect_func = lambdify((f_c, g, Pi, I_ss, f_qmax, d, sigma, I), expect)"
   ]
  },
  {
   "cell_type": "code",
   "execution_count": 217,
   "metadata": {},
   "outputs": [],
   "source": [
    "f_plus_vals = expect_func(6, 0.05, 0.7, 0.4, 7, 0.5, sigmas, Is)"
   ]
  },
  {
   "cell_type": "code",
   "execution_count": 218,
   "metadata": {},
   "outputs": [
    {
     "name": "stdout",
     "output_type": "stream",
     "text": [
      "[f_c, g, Pi, I_ss, f_qmax, d]\n"
     ]
    }
   ],
   "source": [
    "expect = expectation_of_hessian_of_log_likelihood_sum_ith_element(f_minus())"
   ]
  },
  {
   "cell_type": "code",
   "execution_count": 219,
   "metadata": {},
   "outputs": [],
   "source": [
    "expect_func = lambdify((f_c, g, Pi, I_ss, f_qmax, d, sigma, I), expect)"
   ]
  },
  {
   "cell_type": "code",
   "execution_count": 220,
   "metadata": {},
   "outputs": [],
   "source": [
    "f_minus_vals = expect_func(6, 0.05, 0.7, 0.4, 7, 0.5, sigmas, Is)"
   ]
  },
  {
   "cell_type": "code",
   "execution_count": 221,
   "metadata": {},
   "outputs": [],
   "source": [
    "f_plus_func = lambdify((f_c, g, Pi, I_ss, f_qmax, d, I), f_plus())\n",
    "f_minus_func = lambdify((f_c, g, Pi, I_ss, f_qmax, d, I), f_minus())"
   ]
  },
  {
   "cell_type": "code",
   "execution_count": 222,
   "metadata": {},
   "outputs": [
    {
     "data": {
      "text/plain": [
       "[<matplotlib.lines.Line2D at 0x7fc7a1ba7748>]"
      ]
     },
     "execution_count": 222,
     "metadata": {},
     "output_type": "execute_result"
    },
    {
     "data": {
      "image/png": "[encoded data removed]",
      "text/plain": [
       "<Figure size 432x288 with 1 Axes>"
      ]
     },
     "metadata": {
      "needs_background": "light"
     },
     "output_type": "display_data"
    }
   ],
   "source": [
    "plt.plot(f_minus_func(6, 0.05, 0.7, 0.4, 7, 0.5, Is))\n",
    "plt.plot(f_plus_func(6, 0.05, 0.7, 0.4, 7, 0.5, Is))"
   ]
  },
  {
   "cell_type": "code",
   "execution_count": 129,
   "metadata": {},
   "outputs": [],
   "source": [
    "def find_places_for_f_plus_and_minus(Is, f_c, g, Pi, I_ss, f_qmax, d):\n",
    "    \n",
    "    f_plus_vals = f_plus_func(f_c, g, Pi, I_ss, f_qmax, d, Is)\n",
    "    f_minus_vals = f_minus_func(f_c, g, Pi, I_ss, f_qmax, d, Is)\n",
    "\n",
    "    upper_limit = f_c + freq_window\n",
    "    lower_limit = f_c - freq_window\n",
    "\n",
    "    res_freqs_model = ones_like(X)*f_c\n",
    "    idcs1 = where(logical_and(lower_limit < f_minus_vals ,\n",
    "                              f_minus_vals < upper_limit))\n",
    "    idcs2 = where(logical_and(lower_limit < f_plus_vals,\n",
    "                              f_plus_vals < upper_limit))\n",
    "\n",
    "    \n",
    "    return idcs1[0], idcs2[0]"
   ]
  },
  {
   "cell_type": "code",
   "execution_count": 223,
   "metadata": {},
   "outputs": [],
   "source": [
    "M, P = find_places_for_f_plus_and_minus(Is, 6, 0.05, 0.7, 0.4, 7, 0.5)"
   ]
  },
  {
   "cell_type": "code",
   "execution_count": 224,
   "metadata": {},
   "outputs": [
    {
     "data": {
      "text/plain": [
       "[<matplotlib.lines.Line2D at 0x7fc7a1b81f28>]"
      ]
     },
     "execution_count": 224,
     "metadata": {},
     "output_type": "execute_result"
    },
    {
     "data": {
      "image/png": "[encoded data removed]",
      "text/plain": [
       "<Figure size 432x288 with 1 Axes>"
      ]
     },
     "metadata": {
      "needs_background": "light"
     },
     "output_type": "display_data"
    }
   ],
   "source": [
    "plt.plot(M, ones_like(M), \".\")\n",
    "plt.plot(P, ones_like(P), \".\")"
   ]
  },
  {
   "cell_type": "code",
   "execution_count": 225,
   "metadata": {},
   "outputs": [],
   "source": [
    "hess_expect_list = zeros((6, 6,len(Is)))\n",
    "hess_expect_list[:, :, M] = f_minus_vals[:,:,M]\n",
    "hess_expect_list[:, :, P] = f_plus_vals[:,:,P]"
   ]
  },
  {
   "cell_type": "code",
   "execution_count": 226,
   "metadata": {},
   "outputs": [
    {
     "data": {
      "text/plain": [
       "[<matplotlib.lines.Line2D at 0x7fc7a85fb198>]"
      ]
     },
     "execution_count": 226,
     "metadata": {},
     "output_type": "execute_result"
    },
    {
     "data": {
      "image/png": "[encoded data removed]",
      "text/plain": [
       "<Figure size 432x288 with 1 Axes>"
      ]
     },
     "metadata": {
      "needs_background": "light"
     },
     "output_type": "display_data"
    }
   ],
   "source": [
    "plt.plot(Is, f_minus_vals[0, 0,:], \":\")\n",
    "plt.plot(Is, f_plus_vals[0, 0,:], \":\")\n",
    "\n",
    "plt.plot(Is, hess_expect_list[0,0,:])"
   ]
  },
  {
   "cell_type": "code",
   "execution_count": 227,
   "metadata": {},
   "outputs": [],
   "source": [
    "import numpy"
   ]
  },
  {
   "cell_type": "code",
   "execution_count": 228,
   "metadata": {},
   "outputs": [],
   "source": [
    "numpy.set_printoptions(precision=4, linewidth=150)"
   ]
  },
  {
   "cell_type": "code",
   "execution_count": 229,
   "metadata": {},
   "outputs": [
    {
     "data": {
      "text/plain": [
       "array([[-1.8106e+02,  1.1768e+00,  4.8924e-01,  4.8388e+00, -2.0657e+00, -4.3246e+00],\n",
       "       [ 1.1768e+00, -9.6204e+00, -4.0825e-01,  3.9220e-01,  4.9027e-02, -4.7149e-01],\n",
       "       [ 4.8924e-01, -4.0825e-01, -2.0366e+00, -2.3898e+00, -7.1958e-03, -3.6772e-02],\n",
       "       [ 4.8388e+00,  3.9220e-01, -2.3898e+00, -1.0092e+01,  1.2731e-01,  2.8128e-01],\n",
       "       [-2.0657e+00,  4.9027e-02, -7.1958e-03,  1.2731e-01, -9.2824e-02, -1.8455e-01],\n",
       "       [-4.3246e+00, -4.7149e-01, -3.6772e-02,  2.8128e-01, -1.8455e-01, -4.0115e-01]])"
      ]
     },
     "execution_count": 229,
     "metadata": {},
     "output_type": "execute_result"
    }
   ],
   "source": [
    "hess_expect_list.sum(axis=-1)"
   ]
  },
  {
   "cell_type": "code",
   "execution_count": null,
   "metadata": {},
   "outputs": [],
   "source": []
  }
 ],
 "metadata": {
  "kernelspec": {
   "display_name": "Python 3",
   "language": "python",
   "name": "python3"
  },
  "language_info": {
   "codemirror_mode": {
    "name": "ipython",
    "version": 3
   },
   "file_extension": ".py",
   "mimetype": "text/x-python",
   "name": "python",
   "nbconvert_exporter": "python",
   "pygments_lexer": "ipython3",
   "version": "3.6.6"
  }
 },
 "nbformat": 4,
 "nbformat_minor": 2
}
